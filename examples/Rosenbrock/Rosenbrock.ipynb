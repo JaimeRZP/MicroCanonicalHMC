{
 "cells": [
  {
   "attachments": {},
   "cell_type": "markdown",
   "id": "91129cb1",
   "metadata": {},
   "source": [
    "# Rosembrock Target Practice"
   ]
  },
  {
   "attachments": {},
   "cell_type": "markdown",
   "id": "97121235",
   "metadata": {},
   "source": [
    "## MCHMC"
   ]
  },
  {
   "cell_type": "code",
   "execution_count": 1,
   "id": "86b96c9e",
   "metadata": {},
   "outputs": [
    {
     "name": "stderr",
     "output_type": "stream",
     "text": [
      "\u001b[32m\u001b[1m  Activating\u001b[22m\u001b[39m project at `~/PhD/MicroCanonicalHMC.jl/examples`\n"
     ]
    }
   ],
   "source": [
    "] activate \"../\""
   ]
  },
  {
   "cell_type": "code",
   "execution_count": 2,
   "id": "baed58e3",
   "metadata": {},
   "outputs": [],
   "source": [
    "using Distributions\n",
    "using ForwardDiff\n",
    "using LinearAlgebra\n",
    "using Random\n",
    "#using StatsPlots\n",
    "using PyPlot\n",
    "using Distributed\n",
    "\n",
    "using Revise\n",
    "using MicroCanonicalHMC"
   ]
  },
  {
   "cell_type": "code",
   "execution_count": 3,
   "id": "09dcdce0",
   "metadata": {},
   "outputs": [],
   "source": [
    "target = RosenbrockTarget(1.0, 10.0; d=2);"
   ]
  },
  {
   "cell_type": "code",
   "execution_count": 4,
   "id": "a737261d",
   "metadata": {},
   "outputs": [],
   "source": [
    "X = LinRange(-3, 5, 100)\n",
    "Y = LinRange(-2, 18, 100)\n",
    "Z = zeros(length(X), length(Y))\n",
    "for i in 1:length(X)\n",
    "    for j in 1:length(Y)\n",
    "        x = X[i]\n",
    "        y = Y[j]\n",
    "        Z[i, j] = exp(target.h.ℓπ([x; y]))\n",
    "    end\n",
    "end"
   ]
  },
  {
   "cell_type": "code",
   "execution_count": 5,
   "id": "6896b4ca",
   "metadata": {},
   "outputs": [
    {
     "data": {
      "text/plain": [
       "100-element Vector{Float64}:\n",
       " 7.162829369412773e-5\n",
       " 9.863809139860455e-5\n",
       " 0.00013494872801976375\n",
       " 0.0001834243594214731\n",
       " 0.0002476904756917828\n",
       " 0.000332296436430068\n",
       " 0.000442900469948504\n",
       " 0.0005864765865858889\n",
       " 0.0007715415106920719\n",
       " 0.0010083980468276281\n",
       " 0.001309389262123287\n",
       " 0.001689155512694095\n",
       " 0.0021648837232836893\n",
       " ⋮\n",
       " 0.0016890587797713194\n",
       " 0.001251217459171278\n",
       " 0.00031134149060358854\n",
       " 2.3604574783005898e-6\n",
       " 1.5088638240128408e-10\n",
       " 4.865587974811031e-17\n",
       " 5.648489440875084e-26\n",
       " 1.7465706115620848e-37\n",
       " 1.0692541153538504e-51\n",
       " 9.6070764266984e-69\n",
       " 9.347706927905418e-89\n",
       " 7.231720986524703e-112"
      ]
     },
     "execution_count": 5,
     "metadata": {},
     "output_type": "execute_result"
    }
   ],
   "source": [
    "d2_truth = vec(normalize(sum(Z, dims=1)))\n",
    "d1_truth = vec(normalize(sum(Z, dims=2)))"
   ]
  },
  {
   "cell_type": "code",
   "execution_count": 6,
   "id": "b5f95935",
   "metadata": {},
   "outputs": [
    {
     "data": {
      "image/png": "[encoded data removed]",
      "text/plain": [
       "Figure(PyObject <Figure size 640x480 with 1 Axes>)"
      ]
     },
     "metadata": {},
     "output_type": "display_data"
    },
    {
     "data": {
      "text/plain": [
       "PyObject <matplotlib.image.AxesImage object at 0x7fca84536040>"
      ]
     },
     "execution_count": 6,
     "metadata": {},
     "output_type": "execute_result"
    }
   ],
   "source": [
    "plt.imshow(Z)"
   ]
  },
  {
   "cell_type": "code",
   "execution_count": 7,
   "id": "6aedc238",
   "metadata": {},
   "outputs": [
    {
     "data": {
      "text/plain": [
       "MicroCanonicalHMC.MCHMCSampler(Settings{Float64}(10000, 0.01, 1, true, \"LF\", nothing, nothing, nothing), MicroCanonicalHMC.Hyperparameters{Float64}(0.0, 1.4142135623730951, 0.0, 0.1931833275037836, [1.0, 1.0], 0.9607843137254902, 1.5), MicroCanonicalHMC.Leapfrog)"
      ]
     },
     "execution_count": 7,
     "metadata": {},
     "output_type": "execute_result"
    }
   ],
   "source": [
    "d = 2\n",
    "spl = MCHMC(10_000, 0.01; L=sqrt(2), sigma=ones(target.d), adaptive=true)"
   ]
  },
  {
   "cell_type": "code",
   "execution_count": 8,
   "id": "9f047933",
   "metadata": {},
   "outputs": [
    {
     "name": "stderr",
     "output_type": "stream",
     "text": [
      "\u001b[36m\u001b[1m[ \u001b[22m\u001b[39m\u001b[36m\u001b[1mInfo: \u001b[22m\u001b[39msampling from prior\n",
      "\u001b[36m\u001b[1m[ \u001b[22m\u001b[39m\u001b[36m\u001b[1mInfo: \u001b[22m\u001b[39mTuning eps ⏳\n",
      "\u001b[32mMCHMC (tuning):   0%|                                   |  ETA: 0:40:37\u001b[39m"
     ]
    },
    {
     "name": "stdout",
     "output_type": "stream",
     "text": [
      "Burn in step: 2000\n",
      "eps --->0.14884363533901432\n",
      "Burn in step: 4000\n",
      "eps --->0.11929505215753096\n",
      "Burn in step: 6000\n",
      "eps --->0.07430889554400592\n",
      "Burn in step: 8000\n",
      "eps --->0.08932103629454721\n",
      "Burn in step: 10000\n",
      "eps --->0.17996370047630136\n"
     ]
    },
    {
     "name": "stderr",
     "output_type": "stream",
     "text": [
      "\u001b[A2mMCHMC (tuning): 100%|███████████████████████████████████| Time: 0:00:01\u001b[39m\u001b[36m\u001b[1m[ \u001b[22m\u001b[39m\u001b[36m\u001b[1mInfo: \u001b[22m\u001b[39meps: 0.17996370047630136\n",
      "\u001b[36m\u001b[1m[ \u001b[22m\u001b[39m\u001b[36m\u001b[1mInfo: \u001b[22m\u001b[39mL: 1.4142135623730951\n",
      "\u001b[36m\u001b[1m[ \u001b[22m\u001b[39m\u001b[36m\u001b[1mInfo: \u001b[22m\u001b[39mnu: 0.380674215534585\n",
      "\u001b[36m\u001b[1m[ \u001b[22m\u001b[39m\u001b[36m\u001b[1mInfo: \u001b[22m\u001b[39msigma: [1.0, 1.0]\n",
      "\u001b[36m\u001b[1m[ \u001b[22m\u001b[39m\u001b[36m\u001b[1mInfo: \u001b[22m\u001b[39madaptive: true\n",
      "\u001b[A2mMCHMC: 100%|████████████████████████████████████████████| Time: 0:00:06\u001b[39m"
     ]
    }
   ],
   "source": [
    "samples_mchmc = Sample(spl, target, 500_000; dialog=true);"
   ]
  },
  {
   "cell_type": "code",
   "execution_count": 9,
   "id": "d4409f29",
   "metadata": {},
   "outputs": [
    {
     "data": {
      "text/plain": [
       "500000-element Vector{Any}:\n",
       " [0.8495467729851647, 0.8398377629959439, 0.17996370047630136, -0.10651314127680422, -0.08106563646418086]\n",
       " [1.0272224782026966, 0.8112322169501749, 0.18118575300766745, -0.04556990938678823, -0.29793782110096984]\n",
       " [1.2075771544842797, 0.8285662250360413, 0.16980281805699296, 0.48656156193535843, -2.0040057229261357]\n",
       " [1.1141803317582624, 0.9703760643448183, 0.15591727041138861, -0.5735506499615506, -0.3737825117150268]\n",
       " [1.0132192967096882, 1.0891913184768474, 0.1569871617628539, -0.0182773419095264, -0.019667389835931595]\n",
       " [0.9833899012193901, 1.2433184611968753, 0.15777031223987104, 0.08279508246955218, -0.3817435198331093]\n",
       " [1.0939144083594896, 1.355905337633272, 0.1585482508014614, -0.08327430503074973, -0.1312232889375964]\n",
       " [1.2242908015077498, 1.4461247587234862, 0.15958303445586933, -0.04851872766671683, -0.03907296237740058]\n",
       " [1.348290742539415, 1.5465775312600705, 0.15926468734943328, 0.1594753645259335, -0.42869987327169656]\n",
       " [1.3486888928419087, 1.7058417209351175, 0.15879968139698591, -0.16739353126492768, -0.12477265388236472]\n",
       " [1.2901167545059073, 1.8534447135285355, 0.15987492624374486, 0.02626476474796438, -0.22077103955562224]\n",
       " [1.3654754512455132, 1.9944449222771432, 0.16092307837836697, -0.043364370674281894, -0.15118441199469881]\n",
       " [1.4663499454273714, 2.1198266337757676, 0.16198756738849435, -0.0395530535964346, -0.11334842640699061]\n",
       " ⋮\n",
       " [2.50000221416783, 5.557057967386045, 0.05529691213041612, 0.06557312925240955, -3.5259233392146117]\n",
       " [2.482202480345629, 5.504704190377908, 0.055484204927680934, -0.10648498207887469, -3.254243806913389]\n",
       " [2.4267199875293155, 5.505140065755301, 0.0558783540582323, -0.02360465504499798, -1.7543916615302484]\n",
       " [2.370956563422744, 5.508722102071113, 0.056087354038131226, 0.0005612775142189719, -1.0032819650902363]\n",
       " [2.3160743292493726, 5.520286342432585, 0.05641789986480543, 0.004054536297150024, -0.9878400854387512]\n",
       " [2.259743675006506, 5.517149972281309, 0.056819375602613374, 0.01712059554198153, -1.6368844049417]\n",
       " [2.214308068011136, 5.483031838381091, 0.05685212118673523, 0.13610946097763876, -2.418527510694653]\n",
       " [2.22351839952147, 5.426930737884747, 0.05698600925871044, -0.1181659835616431, -1.914444581717047]\n",
       " [2.2652135516148477, 5.388085924290858, 0.057361422579722744, -0.053636619013556874, -1.1303539912862224]\n",
       " [2.311522997967866, 5.354236729635056, 0.05774249993300166, -0.010695262672617334, -0.860662132820825]\n",
       " [2.354152985790923, 5.315289580359162, 0.05814610083567745, 0.018858320042537957, -1.173935484605892]\n",
       " [2.3747713825836647, 5.26092184400671, 0.05837532523669099, 0.0988457358556234, -1.6617533838404368]"
      ]
     },
     "execution_count": 9,
     "metadata": {},
     "output_type": "execute_result"
    }
   ],
   "source": [
    "samples_mchmc"
   ]
  },
  {
   "cell_type": "code",
   "execution_count": 10,
   "id": "ad509f8c",
   "metadata": {},
   "outputs": [],
   "source": [
    "d1_mchmc = [sample[1] for sample in samples_mchmc]\n",
    "d2_mchmc = [sample[2] for sample in samples_mchmc];"
   ]
  },
  {
   "attachments": {},
   "cell_type": "markdown",
   "id": "0e05b7ed",
   "metadata": {},
   "source": [
    "## NUTS"
   ]
  },
  {
   "cell_type": "code",
   "execution_count": 11,
   "id": "afc1ddfb",
   "metadata": {},
   "outputs": [],
   "source": [
    "using AdvancedHMC\n",
    "using LogDensityProblems"
   ]
  },
  {
   "cell_type": "code",
   "execution_count": 12,
   "id": "c38610c3",
   "metadata": {},
   "outputs": [],
   "source": [
    "# Define the target distribution using the `LogDensityProblem` interface\n",
    "struct LogTargetDensity\n",
    "    dim::Int\n",
    "end\n",
    "LogDensityProblems.logdensity(p::LogTargetDensity, θ) = target.h.ℓπ(θ) #-sum(abs2, θ) / 2  # standard multivariate normal\n",
    "LogDensityProblems.dimension(p::LogTargetDensity) = p.dim\n",
    "LogDensityProblems.capabilities(::Type{LogTargetDensity}) = LogDensityProblems.LogDensityOrder{0}()"
   ]
  },
  {
   "cell_type": "code",
   "execution_count": 14,
   "id": "d2091ef2",
   "metadata": {},
   "outputs": [
    {
     "name": "stderr",
     "output_type": "stream",
     "text": [
      "\u001b[33m\u001b[1m┌ \u001b[22m\u001b[39m\u001b[33m\u001b[1mWarning: \u001b[22m\u001b[39mProgressMeter by default refresh meters with additional information in IJulia via `IJulia.clear_output`, which clears all outputs in the cell. \n",
      "\u001b[33m\u001b[1m│ \u001b[22m\u001b[39m - To prevent this behaviour, do `ProgressMeter.ijulia_behavior(:append)`. \n",
      "\u001b[33m\u001b[1m│ \u001b[22m\u001b[39m - To disable this warning message, do `ProgressMeter.ijulia_behavior(:clear)`.\n",
      "\u001b[33m\u001b[1m└ \u001b[22m\u001b[39m\u001b[90m@ ProgressMeter ~/.julia/packages/ProgressMeter/vnCY0/src/ProgressMeter.jl:626\u001b[39m\n",
      "\u001b[32mSampling 100%|███████████████████████████████| Time: 0:00:05\u001b[39m\n",
      "\u001b[34m  iterations:                                   100000\u001b[39m\n",
      "\u001b[34m  ratio_divergent_transitions:                  0.0\u001b[39m\n",
      "\u001b[34m  ratio_divergent_transitions_during_adaption:  0.0\u001b[39m\n",
      "\u001b[34m  n_steps:                                      3\u001b[39m\n",
      "\u001b[34m  is_accept:                                    true\u001b[39m\n",
      "\u001b[34m  acceptance_rate:                              1.0\u001b[39m\n",
      "\u001b[34m  log_density:                                  -2.9689989400583356\u001b[39m\n",
      "\u001b[34m  hamiltonian_energy:                           3.675000272733663\u001b[39m\n",
      "\u001b[34m  hamiltonian_energy_error:                     -0.19172515227923448\u001b[39m\n",
      "\u001b[34m  max_hamiltonian_energy_error:                 -0.483203152688394\u001b[39m\n",
      "\u001b[34m  tree_depth:                                   2\u001b[39m\n",
      "\u001b[34m  numerical_error:                              false\u001b[39m\n",
      "\u001b[34m  step_size:                                    0.08395262000070175\u001b[39m\n",
      "\u001b[34m  nom_step_size:                                0.08395262000070175\u001b[39m\n",
      "\u001b[34m  is_adapt:                                     false\u001b[39m\n",
      "\u001b[34m  mass_matrix:                                  DiagEuclideanMetric([0.8603656723469459, 3.6936 ...])\u001b[39m\n",
      "\u001b[36m\u001b[1m┌ \u001b[22m\u001b[39m\u001b[36m\u001b[1mInfo: \u001b[22m\u001b[39mFinished 100000 sampling steps for 1 chains in 5.044007526 (s)\n",
      "\u001b[36m\u001b[1m│ \u001b[22m\u001b[39m  h = Hamiltonian(metric=DiagEuclideanMetric([0.8603656723469459, 3.6936 ...]), kinetic=GaussianKinetic())\n",
      "\u001b[36m\u001b[1m│ \u001b[22m\u001b[39m  κ = HMCKernel{AdvancedHMC.FullMomentumRefreshment, Trajectory{MultinomialTS, Leapfrog{Float64}, GeneralisedNoUTurn{Float64}}}(AdvancedHMC.FullMomentumRefreshment(), Trajectory{MultinomialTS}(integrator=Leapfrog(ϵ=0.084), tc=GeneralisedNoUTurn{Float64}(10, 1000.0)))\n",
      "\u001b[36m\u001b[1m│ \u001b[22m\u001b[39m  EBFMI_est = 1.0942099163367895\n",
      "\u001b[36m\u001b[1m└ \u001b[22m\u001b[39m  average_acceptance_rate = 0.9394430097216105\n"
     ]
    }
   ],
   "source": [
    "# Choose parameter dimensionality and initial parameter value\n",
    "initial_θ = target.prior_draw()\n",
    "ℓπ = LogTargetDensity(target.d)\n",
    "\n",
    "# Set the number of samples to draw and warmup iterations\n",
    "n_samples, n_adapts = 100_000, 10_000\n",
    "\n",
    "# Define a Hamiltonian system\n",
    "metric = DiagEuclideanMetric(target.d)\n",
    "hamiltonian = Hamiltonian(metric, ℓπ, ForwardDiff)\n",
    "\n",
    "# Define a leapfrog solver, with initial step size chosen heuristically\n",
    "initial_ϵ = find_good_stepsize(hamiltonian, initial_θ)\n",
    "integrator = AdvancedHMC.Leapfrog(initial_ϵ)\n",
    "\n",
    "# Define an HMC sampler, with the following components\n",
    "#   - multinomial sampling scheme,\n",
    "#   - generalised No-U-Turn criteria, and\n",
    "#   - windowed adaption for step-size and diagonal mass matrix\n",
    "kernel = HMCKernel(Trajectory{MultinomialTS}(integrator, GeneralisedNoUTurn()))\n",
    "adaptor = StanHMCAdaptor(MassMatrixAdaptor(metric), StepSizeAdaptor(0.9, integrator))\n",
    "\n",
    "# Run the sampler to draw samples from the specified Gaussian, where\n",
    "#   - `samples` will store the samples\n",
    "#   - `stats` will store diagnostic statistics for each sample\n",
    "samples_hmc, stats = sample(hamiltonian, kernel, initial_θ, n_samples, adaptor, n_adapts; progress=true);"
   ]
  },
  {
   "cell_type": "code",
   "execution_count": 15,
   "id": "0bae18fb",
   "metadata": {},
   "outputs": [],
   "source": [
    "d1_hmc = [sample[1] for sample in samples_hmc]\n",
    "d2_hmc = [sample[2] for sample in samples_hmc];"
   ]
  },
  {
   "cell_type": "code",
   "execution_count": 16,
   "id": "01881939",
   "metadata": {},
   "outputs": [
    {
     "data": {
      "image/png": "[encoded data removed]",
      "text/plain": [
       "Figure(PyObject <Figure size 800x800 with 4 Axes>)"
      ]
     },
     "metadata": {},
     "output_type": "display_data"
    }
   ],
   "source": [
    "fig, axis = plt.subplots(2, 2, figsize=(8,8))\n",
    "fig.suptitle(\"Neal's Funnel Comp.\", fontsize=16)\n",
    "\n",
    "fig.subplots_adjust(hspace=0)\n",
    "fig.subplots_adjust(wspace=0)\n",
    "\n",
    "axis[1,1].hist(d1_mchmc, bins=100, density=true, range=[-3,5], alpha = 0.3, label=\"MCHMC\")\n",
    "axis[1,1].hist(d1_hmc, bins=100, density=true, range=[-3,5], alpha = 0.3, label=\"NUTS\")\n",
    "axis[1,1].plot(X, d1_truth, \"g--\", label=\"Truth\")\n",
    "axis[1,1].legend()\n",
    "axis[1,1].set_yticks([])\n",
    "\n",
    "axis[2,2].hist(d2_mchmc, bins=100, density=true, orientation=\"horizontal\", range=[-2, 18], alpha = 0.3)\n",
    "axis[2,2].hist(d2_hmc, bins=100, density=true, orientation=\"horizontal\", range=[-2, 18], alpha = 0.3)\n",
    "axis[2,2].plot(d2_truth, Y, \"g--\", label=\"Truth\")\n",
    "axis[2,2].set_xticks([])\n",
    "axis[2,2].set_yticks([])\n",
    "\n",
    "axis[1,2].hist2d(d1_hmc, d2_hmc, bins=100, range=[[-3,5],[-2, 18]])\n",
    "axis[1,2].set_title(\"NUTS\")\n",
    "\n",
    "axis[2,1].hist2d(d1_mchmc, d2_mchmc, bins=100, range=[[-3,5],[-2, 18]])\n",
    "axis[2,1].set_title(\"MCHMC\")\n",
    ";"
   ]
  },
  {
   "cell_type": "code",
   "execution_count": null,
   "id": "3a811ff2",
   "metadata": {},
   "outputs": [],
   "source": []
  },
  {
   "cell_type": "code",
   "execution_count": null,
   "id": "10aa2332",
   "metadata": {},
   "outputs": [],
   "source": []
  }
 ],
 "metadata": {
  "kernelspec": {
   "display_name": "Julia 1.9.3",
   "language": "julia",
   "name": "julia-1.9"
  },
  "language_info": {
   "file_extension": ".jl",
   "mimetype": "application/julia",
   "name": "julia",
   "version": "1.9.3"
  }
 },
 "nbformat": 4,
 "nbformat_minor": 5
}
