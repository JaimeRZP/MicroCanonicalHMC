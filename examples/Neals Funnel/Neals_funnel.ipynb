{
 "cells": [
  {
   "attachments": {},
   "cell_type": "markdown",
   "id": "91129cb1",
   "metadata": {},
   "source": [
    "# Neal's Funnel Target Practice"
   ]
  },
  {
   "cell_type": "code",
   "execution_count": 1,
   "id": "86b96c9e",
   "metadata": {},
   "outputs": [
    {
     "name": "stderr",
     "output_type": "stream",
     "text": [
      "\u001b[32m\u001b[1m  Activating\u001b[22m\u001b[39m project at `~/Documents/PhD/MicroCanonicalHMC.jl/examples`\n"
     ]
    }
   ],
   "source": [
    "using Pkg\n",
    "Pkg.activate(\"..\")\n",
    "Pkg.instantiate()"
   ]
  },
  {
   "cell_type": "code",
   "execution_count": 2,
   "id": "baed58e3",
   "metadata": {},
   "outputs": [],
   "source": [
    "# The statistical inference frame-work we will use\n",
    "using Turing\n",
    "using LinearAlgebra\n",
    "using Random\n",
    "#using StatsPlots\n",
    "using PyPlot\n",
    "using Distributed\n",
    "\n",
    "# Extra deps\n",
    "using LogDensityProblemsAD, LogDensityProblems\n",
    "\n",
    "using Revise\n",
    "using MicroCanonicalHMC"
   ]
  },
  {
   "cell_type": "code",
   "execution_count": 3,
   "id": "90fdb90c",
   "metadata": {},
   "outputs": [
    {
     "data": {
      "text/plain": [
       "true_funnel (generic function with 2 methods)"
      ]
     },
     "execution_count": 3,
     "metadata": {},
     "output_type": "execute_result"
    }
   ],
   "source": [
    "d = 21\n",
    "@model function funnel()\n",
    "    θ ~ Truncated(Normal(0, 3), -3, 3)\n",
    "    z ~ MvNormal(zeros(d-1), exp(θ)*I)\n",
    "    x ~ MvNormal(z, I)\n",
    "end\n",
    "\n",
    "@model function true_funnel()\n",
    "    θ ~ Truncated(Normal(0, 3), -3, 3)\n",
    "    z ~ MvNormal(zeros(d-1), I)\n",
    "    zz = z .* exp(θ/2)\n",
    "    x ~ MvNormal(zz, I)\n",
    "    \n",
    "end\n"
   ]
  },
  {
   "cell_type": "code",
   "execution_count": 4,
   "id": "1eebe796",
   "metadata": {},
   "outputs": [
    {
     "data": {
      "text/plain": [
       "DynamicPPL.Model{typeof(true_funnel), (), (), (), Tuple{}, Tuple{}, DynamicPPL.ConditionContext{@NamedTuple{x::Vector{Float64}}, DynamicPPL.DefaultContext}}(true_funnel, NamedTuple(), NamedTuple(), ConditionContext((x = [1.2142074831535152, 1.23371919965455, -0.8480146960461767, 0.1600994648479841, 1.9180385508479283, -3.401523464506408, -0.0957684186471088, 0.6734622629464286, -3.2749467689509633, -1.6760091758453226, 1.9567202902549736, 0.1136169088905351, 0.11117896909388916, -0.5373922347882832, -0.12436857036298687, -1.2901071061088532, 1.702584517514787, -0.44460133117954226, 1.0818722439221686, 1.2208011493237483],), DynamicPPL.DefaultContext()))"
      ]
     },
     "execution_count": 4,
     "metadata": {},
     "output_type": "execute_result"
    }
   ],
   "source": [
    "Random.seed!(1)\n",
    "(;x) = rand(funnel() | (θ=0,))\n",
    "funnel_model = funnel() | (;x)\n",
    "\n",
    "Random.seed!(1)\n",
    "(;x) = rand(true_funnel() | (θ=0,))\n",
    "true_model = true_funnel() | (;x)"
   ]
  },
  {
   "cell_type": "code",
   "execution_count": 5,
   "id": "4d52c9fb",
   "metadata": {},
   "outputs": [
    {
     "data": {
      "text/plain": [
       "_name_variables (generic function with 1 method)"
      ]
     },
     "execution_count": 5,
     "metadata": {},
     "output_type": "execute_result"
    }
   ],
   "source": [
    "function _get_dists(vi)\n",
    "    mds = values(vi.metadata)\n",
    "    return [md.dists[1] for md in mds]\n",
    "end\n",
    "\n",
    "function _name_variables(vi, dist_lengths)\n",
    "    vsyms = keys(vi)\n",
    "    names = []\n",
    "    for (vsym, dist_length) in zip(vsyms, dist_lengths)\n",
    "        if dist_length == 1\n",
    "            name = [string(vsym)]\n",
    "            append!(names, name)\n",
    "        else\n",
    "            name = [string(vsym, i) for i = 1:dist_length]\n",
    "            append!(names, name)\n",
    "        end\n",
    "    end\n",
    "    return Vector{String}(names)\n",
    "end"
   ]
  },
  {
   "cell_type": "code",
   "execution_count": 6,
   "id": "068aa52e",
   "metadata": {},
   "outputs": [
    {
     "data": {
      "text/plain": [
       "TuringTarget (generic function with 1 method)"
      ]
     },
     "execution_count": 6,
     "metadata": {},
     "output_type": "execute_result"
    }
   ],
   "source": [
    "function TuringTarget(model; kwargs...)\n",
    "    ctxt = model.context\n",
    "    vi = DynamicPPL.VarInfo(model, ctxt)\n",
    "    vi_t = Turing.link!!(vi, model)\n",
    "    θ_start = vi[DynamicPPL.SampleFromPrior()]\n",
    "    mds = values(vi.metadata)\n",
    "    dists =  [md.dists[1] for md in mds]\n",
    "    dist_lengths = [length(dist) for dist in dists]\n",
    "    θ_names = _name_variables(vi, dist_lengths)\n",
    "    d = length(θ_names)\n",
    "    ℓ = LogDensityProblemsAD.ADgradient(DynamicPPL.LogDensityFunction(vi_t, model, ctxt))\n",
    "    ℓπ(x) = LogDensityProblems.logdensity(ℓ, x)\n",
    "    ∂lπ∂θ(x) = LogDensityProblems.logdensity_and_gradient(ℓ, x)\n",
    "    \n",
    "    function _reshape_params(x::AbstractVector)\n",
    "        xx = []\n",
    "        idx = 0\n",
    "        for dist_length in dist_lengths\n",
    "            append!(xx, [x[idx+1:idx+dist_length]])\n",
    "            idx += dist_length\n",
    "        end\n",
    "        return xx\n",
    "    end\n",
    "\n",
    "    function transform(x)\n",
    "        x = _reshape_params(x)\n",
    "        xt = [Bijectors.link(dist, par) for (dist, par) in zip(dists, x)]\n",
    "        return vcat(xt...)\n",
    "    end\n",
    "\n",
    "    function inv_transform(xt)\n",
    "        xt = _reshape_params(xt)\n",
    "        x = [Bijectors.invlink(dist, par) for (dist, par) in zip(dists, xt)]\n",
    "        return vcat(x...)\n",
    "    end\n",
    "\n",
    "    return CustomTarget(ℓπ, ∂lπ∂θ, θ_start;\n",
    "        transform=transform, \n",
    "        inv_transform=inv_transform, \n",
    "        θ_names=θ_names)\n",
    "end"
   ]
  },
  {
   "cell_type": "code",
   "execution_count": 7,
   "id": "7927eac4",
   "metadata": {},
   "outputs": [
    {
     "name": "stdout",
     "output_type": "stream",
     "text": [
      "String\n"
     ]
    },
    {
     "data": {
      "text/plain": [
       "MicroCanonicalHMC.Target{Float64}(21, MicroCanonicalHMC.Hamiltonian(var\"#ℓπ#12\"{LogDensityProblemsADForwardDiffExt.ForwardDiffLogDensity{LogDensityFunction{DynamicPPL.TypedVarInfo{@NamedTuple{θ::DynamicPPL.Metadata{Dict{AbstractPPL.VarName{:θ, typeof(identity)}, Int64}, Vector{Truncated{Normal{Float64}, Continuous, Float64, Float64, Float64}}, Vector{AbstractPPL.VarName{:θ, typeof(identity)}}, Vector{Float64}, Vector{Set{DynamicPPL.Selector}}}, z::DynamicPPL.Metadata{Dict{AbstractPPL.VarName{:z, typeof(identity)}, Int64}, Vector{IsoNormal}, Vector{AbstractPPL.VarName{:z, typeof(identity)}}, Vector{Float64}, Vector{Set{DynamicPPL.Selector}}}}, Float64}, DynamicPPL.Model{typeof(funnel), (), (), (), Tuple{}, Tuple{}, DynamicPPL.ConditionContext{@NamedTuple{x::Vector{Float64}}, DynamicPPL.DefaultContext}}, DynamicPPL.ConditionContext{@NamedTuple{x::Vector{Float64}}, DynamicPPL.DefaultContext}}, ForwardDiff.Chunk{11}, ForwardDiff.Tag{DynamicPPL.DynamicPPLTag, Float64}, ForwardDiff.GradientConfig{ForwardDiff.Tag{DynamicPPL.DynamicPPLTag, Float64}, Float64, 11, Vector{ForwardDiff.Dual{ForwardDiff.Tag{DynamicPPL.DynamicPPLTag, Float64}, Float64, 11}}}}}(ForwardDiff AD wrapper for LogDensityFunction{DynamicPPL.TypedVarInfo{@NamedTuple{θ::DynamicPPL.Metadata{Dict{AbstractPPL.VarName{:θ, typeof(identity)}, Int64}, Vector{Truncated{Normal{Float64}, Continuous, Float64, Float64, Float64}}, Vector{AbstractPPL.VarName{:θ, typeof(identity)}}, Vector{Float64}, Vector{Set{DynamicPPL.Selector}}}, z::DynamicPPL.Metadata{Dict{AbstractPPL.VarName{:z, typeof(identity)}, Int64}, Vector{IsoNormal}, Vector{AbstractPPL.VarName{:z, typeof(identity)}}, Vector{Float64}, Vector{Set{DynamicPPL.Selector}}}}, Float64}, DynamicPPL.Model{typeof(funnel), (), (), (), Tuple{}, Tuple{}, DynamicPPL.ConditionContext{@NamedTuple{x::Vector{Float64}}, DynamicPPL.DefaultContext}}, DynamicPPL.ConditionContext{@NamedTuple{x::Vector{Float64}}, DynamicPPL.DefaultContext}}(DynamicPPL.TypedVarInfo{@NamedTuple{θ::DynamicPPL.Metadata{Dict{AbstractPPL.VarName{:θ, typeof(identity)}, Int64}, Vector{Truncated{Normal{Float64}, Continuous, Float64, Float64, Float64}}, Vector{AbstractPPL.VarName{:θ, typeof(identity)}}, Vector{Float64}, Vector{Set{DynamicPPL.Selector}}}, z::DynamicPPL.Metadata{Dict{AbstractPPL.VarName{:z, typeof(identity)}, Int64}, Vector{IsoNormal}, Vector{AbstractPPL.VarName{:z, typeof(identity)}}, Vector{Float64}, Vector{Set{DynamicPPL.Selector}}}}, Float64}((θ = DynamicPPL.Metadata{Dict{AbstractPPL.VarName{:θ, typeof(identity)}, Int64}, Vector{Truncated{Normal{Float64}, Continuous, Float64, Float64, Float64}}, Vector{AbstractPPL.VarName{:θ, typeof(identity)}}, Vector{Float64}, Vector{Set{DynamicPPL.Selector}}}(Dict(θ => 1), [θ], UnitRange{Int64}[1:1], [0.3508965397461393], Truncated{Normal{Float64}, Continuous, Float64, Float64, Float64}[Truncated(Normal{Float64}(μ=0.0, σ=3.0); lower=-3.0, upper=3.0)], Set{DynamicPPL.Selector}[Set()], [0], Dict{String, BitVector}(\"del\" => [0], \"trans\" => [1])), z = DynamicPPL.Metadata{Dict{AbstractPPL.VarName{:z, typeof(identity)}, Int64}, Vector{IsoNormal}, Vector{AbstractPPL.VarName{:z, typeof(identity)}}, Vector{Float64}, Vector{Set{DynamicPPL.Selector}}}(Dict(z => 1), [z], UnitRange{Int64}[1:20], [2.1537549729024352, 0.43124826638854874, -2.9187035926267124, -0.8586026008485836, 1.561407625820226, 0.5112761138866166, 1.1307390905839096, 0.07257462629312353, -0.9661165064294249, 0.22619027636527042, -2.0898283634784756, 0.5343010116067349, 1.9808649615494673, -1.4033724950259823, 0.1993345723850213, 0.22979691650005243, -0.8168408547490131, 2.217047985631006, -1.5445868012467947, 1.0748871599242262], IsoNormal[IsoNormal(\n",
       "dim: 20\n",
       "μ: [0.0, 0.0, 0.0, 0.0, 0.0, 0.0, 0.0, 0.0, 0.0, 0.0, 0.0, 0.0, 0.0, 0.0, 0.0, 0.0, 0.0, 0.0, 0.0, 0.0]\n",
       "Σ: [1.6837270585595743 0.0 … 0.0 0.0; 0.0 1.6837270585595743 … 0.0 0.0; … ; 0.0 0.0 … 1.6837270585595743 0.0; 0.0 0.0 … 0.0 1.6837270585595743]\n",
       ")\n",
       "], Set{DynamicPPL.Selector}[Set()], [0], Dict{String, BitVector}(\"del\" => [0], \"trans\" => [1]))), Base.RefValue{Float64}(-93.10266571457056), Base.RefValue{Int64}(1)), DynamicPPL.Model{typeof(funnel), (), (), (), Tuple{}, Tuple{}, DynamicPPL.ConditionContext{@NamedTuple{x::Vector{Float64}}, DynamicPPL.DefaultContext}}(funnel, NamedTuple(), NamedTuple(), ConditionContext((x = [1.2142074831535152, 1.23371919965455, -0.8480146960461767, 0.1600994648479841, 1.9180385508479283, -3.401523464506408, -0.0957684186471088, 0.6734622629464286, -3.2749467689509633, -1.6760091758453226, 1.9567202902549736, 0.1136169088905351, 0.11117896909388916, -0.5373922347882832, -0.12436857036298687, -1.2901071061088532, 1.702584517514787, -0.44460133117954226, 1.0818722439221686, 1.2208011493237483],), DynamicPPL.DefaultContext())), ConditionContext((x = [1.2142074831535152, 1.23371919965455, -0.8480146960461767, 0.1600994648479841, 1.9180385508479283, -3.401523464506408, -0.0957684186471088, 0.6734622629464286, -3.2749467689509633, -1.6760091758453226, 1.9567202902549736, 0.1136169088905351, 0.11117896909388916, -0.5373922347882832, -0.12436857036298687, -1.2901071061088532, 1.702584517514787, -0.44460133117954226, 1.0818722439221686, 1.2208011493237483],), DynamicPPL.DefaultContext())), w/ chunk size 11), var\"#∂lπ∂θ#13\"{LogDensityProblemsADForwardDiffExt.ForwardDiffLogDensity{LogDensityFunction{DynamicPPL.TypedVarInfo{@NamedTuple{θ::DynamicPPL.Metadata{Dict{AbstractPPL.VarName{:θ, typeof(identity)}, Int64}, Vector{Truncated{Normal{Float64}, Continuous, Float64, Float64, Float64}}, Vector{AbstractPPL.VarName{:θ, typeof(identity)}}, Vector{Float64}, Vector{Set{DynamicPPL.Selector}}}, z::DynamicPPL.Metadata{Dict{AbstractPPL.VarName{:z, typeof(identity)}, Int64}, Vector{IsoNormal}, Vector{AbstractPPL.VarName{:z, typeof(identity)}}, Vector{Float64}, Vector{Set{DynamicPPL.Selector}}}}, Float64}, DynamicPPL.Model{typeof(funnel), (), (), (), Tuple{}, Tuple{}, DynamicPPL.ConditionContext{@NamedTuple{x::Vector{Float64}}, DynamicPPL.DefaultContext}}, DynamicPPL.ConditionContext{@NamedTuple{x::Vector{Float64}}, DynamicPPL.DefaultContext}}, ForwardDiff.Chunk{11}, ForwardDiff.Tag{DynamicPPL.DynamicPPLTag, Float64}, ForwardDiff.GradientConfig{ForwardDiff.Tag{DynamicPPL.DynamicPPLTag, Float64}, Float64, 11, Vector{ForwardDiff.Dual{ForwardDiff.Tag{DynamicPPL.DynamicPPLTag, Float64}, Float64, 11}}}}}(ForwardDiff AD wrapper for LogDensityFunction{DynamicPPL.TypedVarInfo{@NamedTuple{θ::DynamicPPL.Metadata{Dict{AbstractPPL.VarName{:θ, typeof(identity)}, Int64}, Vector{Truncated{Normal{Float64}, Continuous, Float64, Float64, Float64}}, Vector{AbstractPPL.VarName{:θ, typeof(identity)}}, Vector{Float64}, Vector{Set{DynamicPPL.Selector}}}, z::DynamicPPL.Metadata{Dict{AbstractPPL.VarName{:z, typeof(identity)}, Int64}, Vector{IsoNormal}, Vector{AbstractPPL.VarName{:z, typeof(identity)}}, Vector{Float64}, Vector{Set{DynamicPPL.Selector}}}}, Float64}, DynamicPPL.Model{typeof(funnel), (), (), (), Tuple{}, Tuple{}, DynamicPPL.ConditionContext{@NamedTuple{x::Vector{Float64}}, DynamicPPL.DefaultContext}}, DynamicPPL.ConditionContext{@NamedTuple{x::Vector{Float64}}, DynamicPPL.DefaultContext}}(DynamicPPL.TypedVarInfo{@NamedTuple{θ::DynamicPPL.Metadata{Dict{AbstractPPL.VarName{:θ, typeof(identity)}, Int64}, Vector{Truncated{Normal{Float64}, Continuous, Float64, Float64, Float64}}, Vector{AbstractPPL.VarName{:θ, typeof(identity)}}, Vector{Float64}, Vector{Set{DynamicPPL.Selector}}}, z::DynamicPPL.Metadata{Dict{AbstractPPL.VarName{:z, typeof(identity)}, Int64}, Vector{IsoNormal}, Vector{AbstractPPL.VarName{:z, typeof(identity)}}, Vector{Float64}, Vector{Set{DynamicPPL.Selector}}}}, Float64}((θ = DynamicPPL.Metadata{Dict{AbstractPPL.VarName{:θ, typeof(identity)}, Int64}, Vector{Truncated{Normal{Float64}, Continuous, Float64, Float64, Float64}}, Vector{AbstractPPL.VarName{:θ, typeof(identity)}}, Vector{Float64}, Vector{Set{DynamicPPL.Selector}}}(Dict(θ => 1), [θ], UnitRange{Int64}[1:1], [0.3508965397461393], Truncated{Normal{Float64}, Continuous, Float64, Float64, Float64}[Truncated(Normal{Float64}(μ=0.0, σ=3.0); lower=-3.0, upper=3.0)], Set{DynamicPPL.Selector}[Set()], [0], Dict{String, BitVector}(\"del\" => [0], \"trans\" => [1])), z = DynamicPPL.Metadata{Dict{AbstractPPL.VarName{:z, typeof(identity)}, Int64}, Vector{IsoNormal}, Vector{AbstractPPL.VarName{:z, typeof(identity)}}, Vector{Float64}, Vector{Set{DynamicPPL.Selector}}}(Dict(z => 1), [z], UnitRange{Int64}[1:20], [2.1537549729024352, 0.43124826638854874, -2.9187035926267124, -0.8586026008485836, 1.561407625820226, 0.5112761138866166, 1.1307390905839096, 0.07257462629312353, -0.9661165064294249, 0.22619027636527042, -2.0898283634784756, 0.5343010116067349, 1.9808649615494673, -1.4033724950259823, 0.1993345723850213, 0.22979691650005243, -0.8168408547490131, 2.217047985631006, -1.5445868012467947, 1.0748871599242262], IsoNormal[IsoNormal(\n",
       "dim: 20\n",
       "μ: [0.0, 0.0, 0.0, 0.0, 0.0, 0.0, 0.0, 0.0, 0.0, 0.0, 0.0, 0.0, 0.0, 0.0, 0.0, 0.0, 0.0, 0.0, 0.0, 0.0]\n",
       "Σ: [1.6837270585595743 0.0 … 0.0 0.0; 0.0 1.6837270585595743 … 0.0 0.0; … ; 0.0 0.0 … 1.6837270585595743 0.0; 0.0 0.0 … 0.0 1.6837270585595743]\n",
       ")\n",
       "], Set{DynamicPPL.Selector}[Set()], [0], Dict{String, BitVector}(\"del\" => [0], \"trans\" => [1]))), Base.RefValue{Float64}(-93.10266571457056), Base.RefValue{Int64}(1)), DynamicPPL.Model{typeof(funnel), (), (), (), Tuple{}, Tuple{}, DynamicPPL.ConditionContext{@NamedTuple{x::Vector{Float64}}, DynamicPPL.DefaultContext}}(funnel, NamedTuple(), NamedTuple(), ConditionContext((x = [1.2142074831535152, 1.23371919965455, -0.8480146960461767, 0.1600994648479841, 1.9180385508479283, -3.401523464506408, -0.0957684186471088, 0.6734622629464286, -3.2749467689509633, -1.6760091758453226, 1.9567202902549736, 0.1136169088905351, 0.11117896909388916, -0.5373922347882832, -0.12436857036298687, -1.2901071061088532, 1.702584517514787, -0.44460133117954226, 1.0818722439221686, 1.2208011493237483],), DynamicPPL.DefaultContext())), ConditionContext((x = [1.2142074831535152, 1.23371919965455, -0.8480146960461767, 0.1600994648479841, 1.9180385508479283, -3.401523464506408, -0.0957684186471088, 0.6734622629464286, -3.2749467689509633, -1.6760091758453226, 1.9567202902549736, 0.1136169088905351, 0.11117896909388916, -0.5373922347882832, -0.12436857036298687, -1.2901071061088532, 1.702584517514787, -0.44460133117954226, 1.0818722439221686, 1.2208011493237483],), DynamicPPL.DefaultContext())), w/ chunk size 11)), var\"#transform#15\"{var\"#_reshape_params#14\"{Vector{Int64}}, Vector{ContinuousDistribution}}(var\"#_reshape_params#14\"{Vector{Int64}}([1, 20]), ContinuousDistribution[Truncated(Normal{Float64}(μ=0.0, σ=3.0); lower=-3.0, upper=3.0), IsoNormal(\n",
       "dim: 20\n",
       "μ: [0.0, 0.0, 0.0, 0.0, 0.0, 0.0, 0.0, 0.0, 0.0, 0.0, 0.0, 0.0, 0.0, 0.0, 0.0, 0.0, 0.0, 0.0, 0.0, 0.0]\n",
       "Σ: [1.6837270585595743 0.0 … 0.0 0.0; 0.0 1.6837270585595743 … 0.0 0.0; … ; 0.0 0.0 … 1.6837270585595743 0.0; 0.0 0.0 … 0.0 1.6837270585595743]\n",
       ")\n",
       "]), var\"#inv_transform#17\"{var\"#_reshape_params#14\"{Vector{Int64}}, Vector{ContinuousDistribution}}(var\"#_reshape_params#14\"{Vector{Int64}}([1, 20]), ContinuousDistribution[Truncated(Normal{Float64}(μ=0.0, σ=3.0); lower=-3.0, upper=3.0), IsoNormal(\n",
       "dim: 20\n",
       "μ: [0.0, 0.0, 0.0, 0.0, 0.0, 0.0, 0.0, 0.0, 0.0, 0.0, 0.0, 0.0, 0.0, 0.0, 0.0, 0.0, 0.0, 0.0, 0.0, 0.0]\n",
       "Σ: [1.6837270585595743 0.0 … 0.0 0.0; 0.0 1.6837270585595743 … 0.0 0.0; … ; 0.0 0.0 … 1.6837270585595743 0.0; 0.0 0.0 … 0.0 1.6837270585595743]\n",
       ")\n",
       "]), [0.3508965397461393, 2.1537549729024352, 0.43124826638854874, -2.9187035926267124, -0.8586026008485836, 1.561407625820226, 0.5112761138866166, 1.1307390905839096, 0.07257462629312353, -0.9661165064294249  …  -2.0898283634784756, 0.5343010116067349, 1.9808649615494673, -1.4033724950259823, 0.1993345723850213, 0.22979691650005243, -0.8168408547490131, 2.217047985631006, -1.5445868012467947, 1.0748871599242262], [\"θ\", \"z1\", \"z2\", \"z3\", \"z4\", \"z5\", \"z6\", \"z7\", \"z8\", \"z9\"  …  \"z11\", \"z12\", \"z13\", \"z14\", \"z15\", \"z16\", \"z17\", \"z18\", \"z19\", \"z20\"])"
      ]
     },
     "execution_count": 7,
     "metadata": {},
     "output_type": "execute_result"
    }
   ],
   "source": [
    "target = TuringTarget(funnel_model)"
   ]
  },
  {
   "cell_type": "markdown",
   "id": "e0a3137b",
   "metadata": {},
   "source": [
    "## MCHMC"
   ]
  },
  {
   "cell_type": "code",
   "execution_count": 9,
   "id": "7fba4eaa",
   "metadata": {
    "scrolled": false
   },
   "outputs": [
    {
     "data": {
      "text/plain": [
       "Turing.Inference.ExternalSampler{MicroCanonicalHMC.MCHMCSampler, AutoForwardDiff{nothing, Nothing}, true}(MicroCanonicalHMC.MCHMCSampler(20000, 0.01, true, true, true, true, MicroCanonicalHMC.Hyperparameters{Float64}(0.0, 0.0, [0.0], 0.0, 0.0, 0.0), MicroCanonicalHMC.Leapfrog), AutoForwardDiff{nothing, Nothing}(nothing))"
      ]
     },
     "execution_count": 9,
     "metadata": {},
     "output_type": "execute_result"
    }
   ],
   "source": [
    "mchmc = MCHMC(20_000, 0.01; adaptive=true)\n",
    "espl = externalsampler(mchmc)"
   ]
  },
  {
   "cell_type": "code",
   "execution_count": 10,
   "id": "3fb89023",
   "metadata": {},
   "outputs": [
    {
     "name": "stderr",
     "output_type": "stream",
     "text": [
      "\u001b[33m\u001b[1m┌ \u001b[22m\u001b[39m\u001b[33m\u001b[1mWarning: \u001b[22m\u001b[39mProgressMeter by default refresh meters with additional information in IJulia via `IJulia.clear_output`, which clears all outputs in the cell. \n",
      "\u001b[33m\u001b[1m│ \u001b[22m\u001b[39m - To prevent this behaviour, do `ProgressMeter.ijulia_behavior(:append)`. \n",
      "\u001b[33m\u001b[1m│ \u001b[22m\u001b[39m - To disable this warning message, do `ProgressMeter.ijulia_behavior(:clear)`.\n",
      "\u001b[33m\u001b[1m└ \u001b[22m\u001b[39m\u001b[90m@ ProgressMeter ~/.julia/packages/ProgressMeter/dMfiC/src/ProgressMeter.jl:594\u001b[39m\n",
      "\u001b[32mTuning: 100%|███████████████████████████████████████████| Time: 0:02:15\u001b[39m\n",
      "\u001b[34m  ϵ:     1.0016733142648795\u001b[39m\n",
      "\u001b[34m  L:     7879.3905299734615\u001b[39m\n",
      "\u001b[34m  dE/d:  0.014180776901292734\u001b[39m\n",
      "\u001b[32mSampling: 100%|█████████████████████████████████████████| Time: 0:00:07\u001b[39m\n"
     ]
    }
   ],
   "source": [
    "samples = sample(funnel_model, espl, 100_000);"
   ]
  },
  {
   "cell_type": "code",
   "execution_count": 11,
   "id": "028ab552",
   "metadata": {},
   "outputs": [],
   "source": [
    "theta_mchmc = [samples.value.data[i, 1, :][1] for i in axes(samples.value.data)[1]]\n",
    "x10_mchmc = [samples.value.data[i, 10+1, :][1] for i in axes(samples.value.data)[1]];"
   ]
  },
  {
   "cell_type": "code",
   "execution_count": 18,
   "id": "a1179979",
   "metadata": {},
   "outputs": [
    {
     "name": "stderr",
     "output_type": "stream",
     "text": [
      "\u001b[33m\u001b[1m┌ \u001b[22m\u001b[39m\u001b[33m\u001b[1mWarning: \u001b[22m\u001b[39mProgressMeter by default refresh meters with additional information in IJulia via `IJulia.clear_output`, which clears all outputs in the cell. \n",
      "\u001b[33m\u001b[1m│ \u001b[22m\u001b[39m - To prevent this behaviour, do `ProgressMeter.ijulia_behavior(:append)`. \n",
      "\u001b[33m\u001b[1m│ \u001b[22m\u001b[39m - To disable this warning message, do `ProgressMeter.ijulia_behavior(:clear)`.\n",
      "\u001b[33m\u001b[1m└ \u001b[22m\u001b[39m\u001b[90m@ ProgressMeter ~/.julia/packages/ProgressMeter/dMfiC/src/ProgressMeter.jl:594\u001b[39m\n",
      "\r\u001b[32mSampling: 100%|█████████████████████████████████████████| Time: 0:00:03\u001b[39m\n"
     ]
    },
    {
     "data": {
      "text/plain": [
       "24×50000 Matrix{Float64}:\n",
       "  -2.91038     -2.90691      -2.89931     …   -0.288195    -0.0825508\n",
       "   0.331038     0.637943      0.426912        -0.703009    -0.206151\n",
       "   0.386373     0.443429      0.275205         0.344951     0.923632\n",
       "  -0.0307636   -0.32264      -0.415502         0.0170465   -0.255363\n",
       "  -0.49207     -0.49785       0.0171043        0.822458     1.02032\n",
       "   0.187605     0.144874      0.0865758   …    0.189644     0.322097\n",
       "  -0.472861    -0.625683     -0.329203        -2.27943     -1.54419\n",
       "  -0.196116    -0.070315      0.0471575       -1.87074     -1.35496\n",
       "  -0.434444    -0.333156     -0.123177         0.544736     0.583921\n",
       "  -0.110981     0.199667      0.106557        -0.76501     -0.473178\n",
       "  -0.37985     -0.196976     -0.00681777  …   -0.557298    -0.365607\n",
       "   0.332094    -0.0129446    -0.182672         0.836934     1.11121\n",
       "  -0.111793    -0.0834752    -0.0298604       -0.419171    -0.362107\n",
       "  -0.632135    -0.702591     -0.517503         1.5155       1.26745\n",
       "  -0.0773847    0.00632658    0.0574068        0.52772      0.500401\n",
       "  -0.198682    -0.22446      -0.162725    …    0.797284     0.413926\n",
       "   0.268952    -0.143796     -0.427508        -0.927924    -0.839389\n",
       "   0.3417       0.393694      0.273482         0.671937     0.727313\n",
       "  -0.0980516    0.0261337     0.102066         0.602276     0.54209\n",
       "   0.41367      0.111713     -0.154965         0.158288     0.374885\n",
       "  -0.296858    -0.25913      -0.0995254   …   -0.498876    -0.376415\n",
       "   1.15533      1.14306       1.11592          1.87258      1.87917\n",
       "   0.29862      0.738324     -1.00255         -0.677478     0.319505\n",
       " -50.967      -53.3954      -43.7224         -62.7314     -58.3967"
      ]
     },
     "execution_count": 18,
     "metadata": {},
     "output_type": "execute_result"
    }
   ],
   "source": [
    "ssamples = Sample(mchmc, target, 100_000)"
   ]
  },
  {
   "cell_type": "code",
   "execution_count": 33,
   "id": "c5d19a82",
   "metadata": {},
   "outputs": [
    {
     "name": "stdout",
     "output_type": "stream",
     "text": [
      "-0.1162738449508564 0.9702243481135476\n",
      "-0.8193297713482686 0.7852897699709601\n"
     ]
    }
   ],
   "source": [
    "println(mean(ssamples[1, :]), \" \", std(ssamples[1, :]))\n",
    "println(mean(ssamples[11, :]), \" \", std(ssamples[11, :]))"
   ]
  },
  {
   "cell_type": "code",
   "execution_count": 35,
   "id": "9c5f7abf",
   "metadata": {},
   "outputs": [
    {
     "name": "stdout",
     "output_type": "stream",
     "text": [
      "-0.39408159747045773 1.2875343544418831\n",
      "-0.7345098968270953 0.7627960355617235\n"
     ]
    }
   ],
   "source": [
    "println(mean(theta_mchmc), \" \", std(theta_mchmc))\n",
    "println(mean(x10_mchmc), \" \", std(x10_mchmc))"
   ]
  },
  {
   "cell_type": "markdown",
   "id": "b8f12f9d",
   "metadata": {},
   "source": [
    "## NUTS"
   ]
  },
  {
   "cell_type": "code",
   "execution_count": 12,
   "id": "191958da",
   "metadata": {},
   "outputs": [
    {
     "name": "stderr",
     "output_type": "stream",
     "text": [
      "\u001b[36m\u001b[1m┌ \u001b[22m\u001b[39m\u001b[36m\u001b[1mInfo: \u001b[22m\u001b[39mFound initial step size\n",
      "\u001b[36m\u001b[1m└ \u001b[22m\u001b[39m  ϵ = 1.6\n",
      "\u001b[32mSampling: 100%|█████████████████████████████████████████| Time: 0:00:45\u001b[39m\n"
     ]
    },
    {
     "data": {
      "text/plain": [
       "Chains MCMC chain (50000×33×1 Array{Float64, 3}):\n",
       "\n",
       "Iterations        = 11:1:50010\n",
       "Number of chains  = 1\n",
       "Samples per chain = 50000\n",
       "Wall duration     = 50.18 seconds\n",
       "Compute duration  = 50.18 seconds\n",
       "parameters        = θ, z[1], z[2], z[3], z[4], z[5], z[6], z[7], z[8], z[9], z[10], z[11], z[12], z[13], z[14], z[15], z[16], z[17], z[18], z[19], z[20]\n",
       "internals         = lp, n_steps, is_accept, acceptance_rate, log_density, hamiltonian_energy, hamiltonian_energy_error, max_hamiltonian_energy_error, tree_depth, numerical_error, step_size, nom_step_size\n",
       "\n",
       "Summary Statistics\n",
       " \u001b[1m parameters \u001b[0m \u001b[1m    mean \u001b[0m \u001b[1m     std \u001b[0m \u001b[1m    mcse \u001b[0m \u001b[1m   ess_bulk \u001b[0m \u001b[1m   ess_tail \u001b[0m \u001b[1m    rhat\u001b[0m ⋯\n",
       " \u001b[90m     Symbol \u001b[0m \u001b[90m Float64 \u001b[0m \u001b[90m Float64 \u001b[0m \u001b[90m Float64 \u001b[0m \u001b[90m    Float64 \u001b[0m \u001b[90m    Float64 \u001b[0m \u001b[90m Float64\u001b[0m ⋯\n",
       "\n",
       "           θ   -0.0015    0.7147    0.0090    7982.8130    5538.7109    1.0000 ⋯\n",
       "        z[1]    0.6078    0.7299    0.0031   55674.6739   34269.0630    1.0001 ⋯\n",
       "        z[2]    0.6221    0.7359    0.0032   54301.2027   33665.9053    1.0000 ⋯\n",
       "        z[3]   -0.4270    0.7192    0.0028   68644.2890   34350.0961    1.0000 ⋯\n",
       "        z[4]    0.0861    0.7085    0.0023   97350.9728   34244.8349    1.0001 ⋯\n",
       "        z[5]    0.9633    0.7658    0.0042   33265.7224   34784.6170    1.0000 ⋯\n",
       "        z[6]   -1.7157    0.8830    0.0069   15402.3632   15253.1832    1.0000 ⋯\n",
       "        z[7]   -0.0475    0.7154    0.0023   96550.9565   32072.1335    1.0000 ⋯\n",
       "        z[8]    0.3436    0.7191    0.0026   79113.9019   34337.5067    1.0000 ⋯\n",
       "        z[9]   -1.6504    0.8748    0.0067   16221.5687   17571.7505    1.0000 ⋯\n",
       "       z[10]   -0.8476    0.7557    0.0039   37279.4311   36978.7096    1.0000 ⋯\n",
       "       z[11]    0.9873    0.7722    0.0043   32993.9000   36259.0388    1.0000 ⋯\n",
       "       z[12]    0.0587    0.7111    0.0023   96414.7306   33949.7787    1.0000 ⋯\n",
       "       z[13]    0.0588    0.7070    0.0022   99726.5533   34159.6753    1.0000 ⋯\n",
       "       z[14]   -0.2749    0.7142    0.0024   87007.1167   33840.2542    1.0000 ⋯\n",
       "       z[15]   -0.0680    0.7070    0.0023   95161.7894   33466.6193    1.0000 ⋯\n",
       "       z[16]   -0.6499    0.7383    0.0032   52708.8731   34858.8889    1.0000 ⋯\n",
       "       z[17]    0.8624    0.7557    0.0040   35045.0809   34126.5541    1.0000 ⋯\n",
       "       z[18]   -0.2188    0.7137    0.0024   90158.5744   33534.6533    1.0000 ⋯\n",
       "       z[19]    0.5460    0.7286    0.0030   58709.9477   34323.1640    1.0000 ⋯\n",
       "       z[20]    0.6130    0.7278    0.0032   52661.2173   33974.2504    1.0000 ⋯\n",
       "\u001b[36m                                                                1 column omitted\u001b[0m\n",
       "\n",
       "Quantiles\n",
       " \u001b[1m parameters \u001b[0m \u001b[1m    2.5% \u001b[0m \u001b[1m   25.0% \u001b[0m \u001b[1m   50.0% \u001b[0m \u001b[1m   75.0% \u001b[0m \u001b[1m   97.5% \u001b[0m\n",
       " \u001b[90m     Symbol \u001b[0m \u001b[90m Float64 \u001b[0m \u001b[90m Float64 \u001b[0m \u001b[90m Float64 \u001b[0m \u001b[90m Float64 \u001b[0m \u001b[90m Float64 \u001b[0m\n",
       "\n",
       "           θ   -1.7374   -0.3830    0.0819    0.4819    1.1761\n",
       "        z[1]   -0.7405    0.1077    0.5755    1.0762    2.1223\n",
       "        z[2]   -0.7567    0.1189    0.5906    1.0962    2.1531\n",
       "        z[3]   -1.9177   -0.8932   -0.4028    0.0606    0.9319\n",
       "        z[4]   -1.3194   -0.3729    0.0795    0.5442    1.5098\n",
       "        z[5]   -0.4181    0.4258    0.9233    1.4630    2.5627\n",
       "        z[6]   -3.5401   -2.3027   -1.6744   -1.0851   -0.1271\n",
       "        z[7]   -1.4850   -0.5043   -0.0435    0.4140    1.3674\n",
       "        z[8]   -1.0383   -0.1333    0.3226    0.8077    1.8116\n",
       "        z[9]   -3.4751   -2.2267   -1.6138   -1.0255   -0.0784\n",
       "       z[10]   -2.4215   -1.3390   -0.8089   -0.3191    0.5236\n",
       "       z[11]   -0.4037    0.4411    0.9467    1.4983    2.6069\n",
       "       z[12]   -1.3468   -0.3988    0.0570    0.5109    1.4746\n",
       "       z[13]   -1.3494   -0.3951    0.0526    0.5118    1.4814\n",
       "       z[14]   -1.7238   -0.7332   -0.2598    0.1978    1.1058\n",
       "       z[15]   -1.4744   -0.5254   -0.0626    0.3940    1.3299\n",
       "       z[16]   -2.1851   -1.1293   -0.6150   -0.1436    0.7270\n",
       "       z[17]   -0.5100    0.3363    0.8167    1.3581    2.4328\n",
       "       z[18]   -1.6694   -0.6746   -0.2014    0.2525    1.1671\n",
       "       z[19]   -0.8160    0.0532    0.5132    1.0142    2.0665\n",
       "       z[20]   -0.7347    0.1118    0.5764    1.0898    2.1194\n"
      ]
     },
     "execution_count": 12,
     "metadata": {},
     "output_type": "execute_result"
    }
   ],
   "source": [
    "samples_hmc = sample(funnel_model, NUTS(10, 0.95), 50_000, progress=true; save_state=true)"
   ]
  },
  {
   "cell_type": "code",
   "execution_count": 13,
   "id": "919c8b29",
   "metadata": {},
   "outputs": [],
   "source": [
    "theta_hmc = [samples_hmc.value.data[i, 1, :][1] for i in axes(samples_hmc.value.data)[1]]\n",
    "x10_hmc = [samples_hmc.value.data[i, 10+1, :][1] for i in axes(samples_hmc.value.data)[1]];\n"
   ]
  },
  {
   "cell_type": "code",
   "execution_count": 14,
   "id": "a23f6d7d",
   "metadata": {},
   "outputs": [
    {
     "name": "stderr",
     "output_type": "stream",
     "text": [
      "\u001b[36m\u001b[1m┌ \u001b[22m\u001b[39m\u001b[36m\u001b[1mInfo: \u001b[22m\u001b[39mFound initial step size\n",
      "\u001b[36m\u001b[1m└ \u001b[22m\u001b[39m  ϵ = 0.4\n",
      "\u001b[32mSampling: 100%|█████████████████████████████████████████| Time: 0:02:13\u001b[39m\n"
     ]
    },
    {
     "data": {
      "text/plain": [
       "Chains MCMC chain (50000×33×1 Array{Float64, 3}):\n",
       "\n",
       "Iterations        = 11:1:50010\n",
       "Number of chains  = 1\n",
       "Samples per chain = 50000\n",
       "Wall duration     = 136.46 seconds\n",
       "Compute duration  = 136.46 seconds\n",
       "parameters        = θ, z[1], z[2], z[3], z[4], z[5], z[6], z[7], z[8], z[9], z[10], z[11], z[12], z[13], z[14], z[15], z[16], z[17], z[18], z[19], z[20]\n",
       "internals         = lp, n_steps, is_accept, acceptance_rate, log_density, hamiltonian_energy, hamiltonian_energy_error, max_hamiltonian_energy_error, tree_depth, numerical_error, step_size, nom_step_size\n",
       "\n",
       "Summary Statistics\n",
       " \u001b[1m parameters \u001b[0m \u001b[1m    mean \u001b[0m \u001b[1m     std \u001b[0m \u001b[1m    mcse \u001b[0m \u001b[1m   ess_bulk \u001b[0m \u001b[1m   ess_tail \u001b[0m \u001b[1m    rhat\u001b[0m ⋯\n",
       " \u001b[90m     Symbol \u001b[0m \u001b[90m Float64 \u001b[0m \u001b[90m Float64 \u001b[0m \u001b[90m Float64 \u001b[0m \u001b[90m    Float64 \u001b[0m \u001b[90m    Float64 \u001b[0m \u001b[90m Float64\u001b[0m ⋯\n",
       "\n",
       "           θ   -0.0020    0.7166    0.0053   19555.6860   22868.4280    1.0001 ⋯\n",
       "        z[1]    0.5763    0.7005    0.0026   71079.2098   35177.6701    1.0000 ⋯\n",
       "        z[2]    0.5831    0.7060    0.0026   71371.0605   35288.8766    1.0001 ⋯\n",
       "        z[3]   -0.4003    0.7067    0.0027   70743.1029   36622.7815    1.0000 ⋯\n",
       "        z[4]    0.0805    0.7055    0.0026   73407.1195   33992.5501    1.0001 ⋯\n",
       "        z[5]    0.9084    0.7079    0.0027   70100.2733   35832.6658    1.0001 ⋯\n",
       "        z[6]   -1.6099    0.7171    0.0028   66645.4405   34712.5508    1.0001 ⋯\n",
       "        z[7]   -0.0542    0.7038    0.0027   68920.6017   36581.9051    1.0000 ⋯\n",
       "        z[8]    0.3184    0.7105    0.0027   70058.4341   36984.4874    1.0001 ⋯\n",
       "        z[9]   -1.5476    0.7178    0.0028   65682.5010   36650.6572    1.0000 ⋯\n",
       "       z[10]   -0.7895    0.7035    0.0027   67357.3490   34943.0986    1.0000 ⋯\n",
       "       z[11]    0.9274    0.7069    0.0027   69044.7743   35063.3531    1.0002 ⋯\n",
       "       z[12]    0.0543    0.7048    0.0026   73084.8468   35448.6888    1.0000 ⋯\n",
       "       z[13]    0.0531    0.7050    0.0026   74016.6142   34230.7182    1.0000 ⋯\n",
       "       z[14]   -0.2531    0.7040    0.0026   71414.1285   35946.8009    1.0000 ⋯\n",
       "       z[15]   -0.0556    0.7064    0.0026   70897.3672   34484.4040    1.0000 ⋯\n",
       "       z[16]   -0.6098    0.7087    0.0026   71852.3433   34287.2507    1.0000 ⋯\n",
       "       z[17]    0.8063    0.7023    0.0026   72010.4797   37433.1969    1.0001 ⋯\n",
       "       z[18]   -0.2112    0.7007    0.0026   70544.6465   34583.3071    1.0000 ⋯\n",
       "       z[19]    0.5102    0.7097    0.0026   73020.5204   35780.6407    1.0001 ⋯\n",
       "       z[20]    0.5821    0.7072    0.0027   70121.7921   34443.6526    1.0000 ⋯\n",
       "\u001b[36m                                                                1 column omitted\u001b[0m\n",
       "\n",
       "Quantiles\n",
       " \u001b[1m parameters \u001b[0m \u001b[1m    2.5% \u001b[0m \u001b[1m   25.0% \u001b[0m \u001b[1m   50.0% \u001b[0m \u001b[1m   75.0% \u001b[0m \u001b[1m   97.5% \u001b[0m\n",
       " \u001b[90m     Symbol \u001b[0m \u001b[90m Float64 \u001b[0m \u001b[90m Float64 \u001b[0m \u001b[90m Float64 \u001b[0m \u001b[90m Float64 \u001b[0m \u001b[90m Float64 \u001b[0m\n",
       "\n",
       "           θ   -1.7580   -0.3820    0.0831    0.4826    1.1627\n",
       "        z[1]   -0.8225    0.1212    0.5782    1.0394    1.9506\n",
       "        z[2]   -0.8317    0.1237    0.5882    1.0489    1.9657\n",
       "        z[3]   -1.7978   -0.8637   -0.4006    0.0569    1.0020\n",
       "        z[4]   -1.3206   -0.3820    0.0820    0.5436    1.4817\n",
       "        z[5]   -0.5068    0.4491    0.9092    1.3721    2.2894\n",
       "        z[6]   -3.0042   -2.0814   -1.6138   -1.1523   -0.1699\n",
       "        z[7]   -1.4474   -0.5159   -0.0540    0.4031    1.3473\n",
       "        z[8]   -1.0979   -0.1406    0.3177    0.7820    1.7239\n",
       "        z[9]   -2.9605   -2.0182   -1.5493   -1.0847   -0.1069\n",
       "       z[10]   -2.1752   -1.2479   -0.7937   -0.3313    0.6086\n",
       "       z[11]   -0.4811    0.4704    0.9296    1.3908    2.3192\n",
       "       z[12]   -1.3568   -0.4058    0.0551    0.5192    1.4607\n",
       "       z[13]   -1.3320   -0.4101    0.0532    0.5160    1.4446\n",
       "       z[14]   -1.6542   -0.7088   -0.2500    0.2058    1.1342\n",
       "       z[15]   -1.4449   -0.5168   -0.0549    0.4078    1.3476\n",
       "       z[16]   -2.0134   -1.0703   -0.6110   -0.1549    0.8137\n",
       "       z[17]   -0.5822    0.3488    0.8040    1.2669    2.1887\n",
       "       z[18]   -1.5969   -0.6698   -0.2129    0.2476    1.1767\n",
       "       z[19]   -0.9152    0.0596    0.5136    0.9683    1.9082\n",
       "       z[20]   -0.8353    0.1269    0.5843    1.0377    1.9844\n"
      ]
     },
     "execution_count": 14,
     "metadata": {},
     "output_type": "execute_result"
    }
   ],
   "source": [
    "truth_hmc = sample(true_model, NUTS(10, 0.95), 50_000, progress=true; save_state=true)"
   ]
  },
  {
   "cell_type": "code",
   "execution_count": 15,
   "id": "0c724724",
   "metadata": {},
   "outputs": [],
   "source": [
    "true_theta_hmc = [truth_hmc.value.data[i, 1, :][1] for i in axes(truth_hmc.value.data)[1]]\n",
    "true_x10_hmc = [truth_hmc.value.data[i, 10+1, :][1] * exp(truth_hmc.value.data[i, 1, :][1]/2) for i in axes(truth_hmc.value.data)[1]];\n"
   ]
  },
  {
   "cell_type": "markdown",
   "id": "0ff2cf05",
   "metadata": {},
   "source": [
    "## Comp"
   ]
  },
  {
   "cell_type": "code",
   "execution_count": 16,
   "id": "7fd22388",
   "metadata": {},
   "outputs": [
    {
     "data": {
      "image/png": "[encoded data removed]",
      "text/plain": [
       "Figure(PyObject <Figure size 800x800 with 4 Axes>)"
      ]
     },
     "metadata": {},
     "output_type": "display_data"
    },
    {
     "data": {
      "text/plain": [
       "PyObject Text(0.5, 1.0, 'MCHMC')"
      ]
     },
     "execution_count": 16,
     "metadata": {},
     "output_type": "execute_result"
    }
   ],
   "source": [
    "fig, axis = plt.subplots(2, 2, figsize=(8,8))\n",
    "fig.suptitle(\"Neal's Funnel Comp.\", fontsize=16)\n",
    "\n",
    "fig.subplots_adjust(hspace=0)\n",
    "fig.subplots_adjust(wspace=0)\n",
    "\n",
    "axis[1,1].hist(x10_mchmc, bins=100, density=true, range=[-6,2], alpha = 0.3, label=\"MCHMC\")\n",
    "axis[1,1].hist(x10_hmc, bins=100, density=true, range=[-6,2], alpha = 0.3, label=\"NUTS\")\n",
    "axis[1,1].hist(true_x10_hmc, bins=100, density=true, range=[-6,2], alpha = 0.3, label=\"NUTS - Truth\")\n",
    "axis[1,1].legend()\n",
    "axis[1,1].set_yticks([])\n",
    "\n",
    "axis[2,2].hist(theta_mchmc, bins=100, density=true, orientation=\"horizontal\", range=[-6, 2], alpha = 0.3)\n",
    "axis[2,2].hist(theta_hmc, bins=100, density=true, orientation=\"horizontal\", range=[-6, 2], alpha = 0.3)\n",
    "axis[2,2].hist(true_theta_hmc, bins=100, density=true, orientation=\"horizontal\", range=[-6,2], alpha = 0.3)\n",
    "axis[2,2].set_xticks([])\n",
    "axis[2,2].set_yticks([])\n",
    "\n",
    "axis[1,2].hist2d(true_x10_hmc, true_theta_hmc, bins=100, range=[[-6,2],[-4, 2]])\n",
    "axis[1,2].set_xlabel(\"x10\")\n",
    "axis[1,2].set_ylabel(\"theta\")\n",
    "axis[1,2].set_title(\"NUTS\")\n",
    "\n",
    "axis[2,1].hist2d(x10_mchmc, theta_mchmc, bins=100, range=[[-6,2],[-4, 2]])\n",
    "axis[2,1].set_xlabel(\"x10\")\n",
    "axis[2,1].set_ylabel(\"theta\")\n",
    "axis[2,1].set_title(\"MCHMC\")"
   ]
  },
  {
   "cell_type": "code",
   "execution_count": null,
   "id": "8a248186",
   "metadata": {},
   "outputs": [],
   "source": []
  }
 ],
 "metadata": {
  "kernelspec": {
   "display_name": "Julia (10 threads) 1.10.3",
   "language": "julia",
   "name": "julia-_10-threads_-1.10"
  },
  "language_info": {
   "file_extension": ".jl",
   "mimetype": "application/julia",
   "name": "julia",
   "version": "1.10.3"
  }
 },
 "nbformat": 4,
 "nbformat_minor": 5
}
