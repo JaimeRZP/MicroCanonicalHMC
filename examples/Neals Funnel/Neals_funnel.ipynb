{
 "cells": [
  {
   "attachments": {},
   "cell_type": "markdown",
   "id": "91129cb1",
   "metadata": {},
   "source": [
    "# Neal's Funnel Target Practice"
   ]
  },
  {
   "cell_type": "code",
   "execution_count": 1,
   "id": "86b96c9e",
   "metadata": {},
   "outputs": [
    {
     "name": "stderr",
     "output_type": "stream",
     "text": [
      "\u001b[32m\u001b[1m  Activating\u001b[22m\u001b[39m project at `~/Documents/PhD/MicroCanonicalHMC.jl/examples`\n"
     ]
    }
   ],
   "source": [
    "using Pkg\n",
    "Pkg.activate(\"..\")\n",
    "Pkg.instantiate()"
   ]
  },
  {
   "cell_type": "code",
   "execution_count": 2,
   "id": "baed58e3",
   "metadata": {},
   "outputs": [],
   "source": [
    "# The statistical inference frame-work we will use\n",
    "using Turing\n",
    "using LinearAlgebra\n",
    "using Random\n",
    "#using StatsPlots\n",
    "using PyPlot\n",
    "using Distributed\n",
    "\n",
    "using Revise\n",
    "using MicroCanonicalHMC"
   ]
  },
  {
   "cell_type": "code",
   "execution_count": 3,
   "id": "90fdb90c",
   "metadata": {},
   "outputs": [
    {
     "data": {
      "text/plain": [
       "true_funnel (generic function with 2 methods)"
      ]
     },
     "execution_count": 3,
     "metadata": {},
     "output_type": "execute_result"
    }
   ],
   "source": [
    "d = 21\n",
    "@model function funnel()\n",
    "    θ ~ Truncated(Normal(0, 3), -3, 3)\n",
    "    z ~ MvNormal(zeros(d-1), exp(θ)*I)\n",
    "    x ~ MvNormal(z, I)\n",
    "end\n",
    "\n",
    "@model function true_funnel()\n",
    "    θ ~ Truncated(Normal(0, 3), -3, 3)\n",
    "    z ~ MvNormal(zeros(d-1), I)\n",
    "    zz = z .* exp(θ/2)\n",
    "    x ~ MvNormal(zz, I)\n",
    "    \n",
    "end\n"
   ]
  },
  {
   "cell_type": "code",
   "execution_count": 4,
   "id": "1eebe796",
   "metadata": {},
   "outputs": [
    {
     "data": {
      "text/plain": [
       "DynamicPPL.Model{typeof(true_funnel), (), (), (), Tuple{}, Tuple{}, DynamicPPL.ConditionContext{@NamedTuple{x::Vector{Float64}}, DynamicPPL.DefaultContext}}(true_funnel, NamedTuple(), NamedTuple(), ConditionContext((x = [1.2142074831535152, 1.23371919965455, -0.8480146960461767, 0.1600994648479841, 1.9180385508479283, -3.401523464506408, -0.0957684186471088, 0.6734622629464286, -3.2749467689509633, -1.6760091758453226, 1.9567202902549736, 0.1136169088905351, 0.11117896909388916, -0.5373922347882832, -0.12436857036298687, -1.2901071061088532, 1.702584517514787, -0.44460133117954226, 1.0818722439221686, 1.2208011493237483],), DynamicPPL.DefaultContext()))"
      ]
     },
     "execution_count": 4,
     "metadata": {},
     "output_type": "execute_result"
    }
   ],
   "source": [
    "Random.seed!(1)\n",
    "(;x) = rand(funnel() | (θ=0,))\n",
    "funnel_model = funnel() | (;x)\n",
    "\n",
    "Random.seed!(1)\n",
    "(;x) = rand(true_funnel() | (θ=0,))\n",
    "true_model = true_funnel() | (;x)"
   ]
  },
  {
   "cell_type": "code",
   "execution_count": 9,
   "id": "4d52c9fb",
   "metadata": {},
   "outputs": [
    {
     "data": {
      "text/plain": [
       "_get_dists (generic function with 1 method)"
      ]
     },
     "execution_count": 9,
     "metadata": {},
     "output_type": "execute_result"
    }
   ],
   "source": [
    "function _get_dists(vi)\n",
    "    mds = values(vi.metadata)\n",
    "    return [md.dists[1] for md in mds]\n",
    "end"
   ]
  },
  {
   "cell_type": "code",
   "execution_count": 10,
   "id": "068aa52e",
   "metadata": {},
   "outputs": [
    {
     "data": {
      "text/plain": [
       "TuringTarget (generic function with 1 method)"
      ]
     },
     "execution_count": 10,
     "metadata": {},
     "output_type": "execute_result"
    }
   ],
   "source": [
    "function TuringTarget(model; kwargs...)\n",
    "    ctxt = model.context\n",
    "    vi = DynamicPPL.VarInfo(model, ctxt)\n",
    "    vi_t = Turing.link!!(vi, model)\n",
    "    θ_start = vi[DynamicPPL.SampleFromPrior()]\n",
    "    dists = _get_dists(vi)\n",
    "    dist_lengths = [length(dist) for dist in dists]\n",
    "    θ_names = _name_variables(vi, dist_lengths)\n",
    "    d = length(θ_names)\n",
    "    ℓ = LogDensityProblemsAD.ADgradient(DynamicPPL.LogDensityFunction(vi_t, model, ctxt))\n",
    "    ℓπ(x) = LogDensityProblems.logdensity(ℓ, x)\n",
    "    ∂lπ∂θ(x) = LogDensityProblems.logdensity_and_gradient(ℓ, x)\n",
    "\n",
    "    function _get_dists(vi)\n",
    "        mds = values(vi.metadata)\n",
    "        return [md.dists[1] for md in mds]\n",
    "    end\n",
    "    \n",
    "    function _reshape_params(x::AbstractVector)\n",
    "        xx = []\n",
    "        idx = 0\n",
    "        for dist_length in dist_lengths\n",
    "            append!(xx, [x[idx+1:idx+dist_length]])\n",
    "            idx += dist_length\n",
    "        end\n",
    "        return xx\n",
    "    end\n",
    "\n",
    "    function transform(x)\n",
    "        x = _reshape_params(x)\n",
    "        xt = [Bijectors.link(dist, par) for (dist, par) in zip(dists, x)]\n",
    "        return vcat(xt...)\n",
    "    end\n",
    "\n",
    "    function inv_transform(xt)\n",
    "        xt = _reshape_params(xt)\n",
    "        x = [Bijectors.invlink(dist, par) for (dist, par) in zip(dists, xt)]\n",
    "        return vcat(x...)\n",
    "    end\n",
    "\n",
    "    return CustomTarget(ℓπ, ∂lπ∂θ, θ_start;\n",
    "        transform=transform, \n",
    "        inv_transform=inv_transform, \n",
    "        θ_names=θ_names)\n",
    "end"
   ]
  },
  {
   "cell_type": "code",
   "execution_count": 11,
   "id": "7927eac4",
   "metadata": {},
   "outputs": [
    {
     "ename": "LoadError",
     "evalue": "UndefVarError: `_get_dists` not defined",
     "output_type": "error",
     "traceback": [
      "UndefVarError: `_get_dists` not defined",
      "",
      "Stacktrace:",
      " [1] TuringTarget(model::DynamicPPL.Model{typeof(funnel), (), (), (), Tuple{}, Tuple{}, DynamicPPL.ConditionContext{@NamedTuple{x::Vector{Float64}}, DynamicPPL.DefaultContext}}; kwargs::@Kwargs{})",
      "   @ Main ./In[10]:6",
      " [2] TuringTarget(model::DynamicPPL.Model{typeof(funnel), (), (), (), Tuple{}, Tuple{}, DynamicPPL.ConditionContext{@NamedTuple{x::Vector{Float64}}, DynamicPPL.DefaultContext}})",
      "   @ Main ./In[10]:1",
      " [3] top-level scope",
      "   @ In[11]:1"
     ]
    }
   ],
   "source": [
    "target = TuringTarget(funnel_model)"
   ]
  },
  {
   "cell_type": "code",
   "execution_count": null,
   "id": "1b625ccc",
   "metadata": {},
   "outputs": [],
   "source": []
  },
  {
   "cell_type": "markdown",
   "id": "e0a3137b",
   "metadata": {},
   "source": [
    "## MCHMC"
   ]
  },
  {
   "cell_type": "code",
   "execution_count": null,
   "id": "7fba4eaa",
   "metadata": {
    "scrolled": false
   },
   "outputs": [],
   "source": [
    "mchmc = MCHMC(20_000, 0.01; adaptive=true)\n",
    "espl = externalsampler(mchmc)"
   ]
  },
  {
   "cell_type": "code",
   "execution_count": null,
   "id": "3fb89023",
   "metadata": {},
   "outputs": [],
   "source": [
    "samples = sample(funnel_model, espl, 100_000);"
   ]
  },
  {
   "cell_type": "code",
   "execution_count": null,
   "id": "028ab552",
   "metadata": {},
   "outputs": [],
   "source": [
    "theta_mchmc = [samples.value.data[i, 1, :][1] for i in axes(samples.value.data)[1]]\n",
    "x10_mchmc = [samples.value.data[i, 10+1, :][1] for i in axes(samples.value.data)[1]];"
   ]
  },
  {
   "cell_type": "markdown",
   "id": "b8f12f9d",
   "metadata": {},
   "source": [
    "## NUTS"
   ]
  },
  {
   "cell_type": "code",
   "execution_count": null,
   "id": "191958da",
   "metadata": {},
   "outputs": [],
   "source": [
    "samples_hmc = sample(funnel_model, NUTS(10, 0.95), 50_000, progress=true; save_state=true)"
   ]
  },
  {
   "cell_type": "code",
   "execution_count": null,
   "id": "919c8b29",
   "metadata": {},
   "outputs": [],
   "source": [
    "theta_hmc = [samples_hmc.value.data[i, 1, :][1] for i in axes(samples_hmc.value.data)[1]]\n",
    "x10_hmc = [samples_hmc.value.data[i, 10+1, :][1] for i in axes(samples_hmc.value.data)[1]];\n"
   ]
  },
  {
   "cell_type": "code",
   "execution_count": null,
   "id": "a23f6d7d",
   "metadata": {},
   "outputs": [],
   "source": [
    "truth_hmc = sample(true_model, NUTS(10, 0.95), 50_000, progress=true; save_state=true)"
   ]
  },
  {
   "cell_type": "code",
   "execution_count": null,
   "id": "0c724724",
   "metadata": {},
   "outputs": [],
   "source": [
    "true_theta_hmc = [truth_hmc.value.data[i, 1, :][1] for i in axes(truth_hmc.value.data)[1]]\n",
    "true_x10_hmc = [truth_hmc.value.data[i, 10+1, :][1] * exp(truth_hmc.value.data[i, 1, :][1]/2) for i in axes(truth_hmc.value.data)[1]];\n"
   ]
  },
  {
   "cell_type": "markdown",
   "id": "0ff2cf05",
   "metadata": {},
   "source": [
    "## Comp"
   ]
  },
  {
   "cell_type": "code",
   "execution_count": null,
   "id": "7fd22388",
   "metadata": {},
   "outputs": [],
   "source": [
    "fig, axis = plt.subplots(2, 2, figsize=(8,8))\n",
    "fig.suptitle(\"Neal's Funnel Comp.\", fontsize=16)\n",
    "\n",
    "fig.subplots_adjust(hspace=0)\n",
    "fig.subplots_adjust(wspace=0)\n",
    "\n",
    "axis[1,1].hist(x10_mchmc, bins=100, density=true, range=[-6,2], alpha = 0.3, label=\"MCHMC\")\n",
    "axis[1,1].hist(x10_hmc, bins=100, density=true, range=[-6,2], alpha = 0.3, label=\"NUTS\")\n",
    "axis[1,1].hist(true_x10_hmc, bins=100, density=true, range=[-6,2], alpha = 0.3, label=\"NUTS - Truth\")\n",
    "axis[1,1].legend()\n",
    "axis[1,1].set_yticks([])\n",
    "\n",
    "axis[2,2].hist(theta_mchmc, bins=100, density=true, orientation=\"horizontal\", range=[-6, 2], alpha = 0.3)\n",
    "axis[2,2].hist(theta_hmc, bins=100, density=true, orientation=\"horizontal\", range=[-6, 2], alpha = 0.3)\n",
    "axis[2,2].hist(true_theta_hmc, bins=100, density=true, orientation=\"horizontal\", range=[-6,2], alpha = 0.3)\n",
    "axis[2,2].set_xticks([])\n",
    "axis[2,2].set_yticks([])\n",
    "\n",
    "axis[1,2].hist2d(true_x10_hmc, true_theta_hmc, bins=100, range=[[-6,2],[-4, 2]])\n",
    "axis[1,2].set_xlabel(\"x10\")\n",
    "axis[1,2].set_ylabel(\"theta\")\n",
    "axis[1,2].set_title(\"NUTS\")\n",
    "\n",
    "axis[2,1].hist2d(x10_mchmc, theta_mchmc, bins=100, range=[[-6,2],[-4, 2]])\n",
    "axis[2,1].set_xlabel(\"x10\")\n",
    "axis[2,1].set_ylabel(\"theta\")\n",
    "axis[2,1].set_title(\"MCHMC\")"
   ]
  },
  {
   "cell_type": "code",
   "execution_count": null,
   "id": "8a248186",
   "metadata": {},
   "outputs": [],
   "source": []
  }
 ],
 "metadata": {
  "kernelspec": {
   "display_name": "Julia (10 threads) 1.10.3",
   "language": "julia",
   "name": "julia-_10-threads_-1.10"
  },
  "language_info": {
   "file_extension": ".jl",
   "mimetype": "application/julia",
   "name": "julia",
   "version": "1.10.3"
  }
 },
 "nbformat": 4,
 "nbformat_minor": 5
}
