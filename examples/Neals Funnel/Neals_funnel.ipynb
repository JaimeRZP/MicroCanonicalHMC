{
 "cells": [
  {
   "attachments": {},
   "cell_type": "markdown",
   "id": "91129cb1",
   "metadata": {},
   "source": [
    "# Neal's Funnel Target Practice"
   ]
  },
  {
   "cell_type": "code",
   "execution_count": 1,
   "id": "86b96c9e",
   "metadata": {},
   "outputs": [
    {
     "name": "stderr",
     "output_type": "stream",
     "text": [
      "\u001b[32m\u001b[1m  Activating\u001b[22m\u001b[39m project at `~/Documents/PhD/MicroCanonicalHMC.jl/examples`\n"
     ]
    }
   ],
   "source": [
    "using Pkg\n",
    "Pkg.activate(\"..\")\n",
    "Pkg.instantiate()"
   ]
  },
  {
   "cell_type": "code",
   "execution_count": 2,
   "id": "baed58e3",
   "metadata": {},
   "outputs": [],
   "source": [
    "# The statistical inference frame-work we will use\n",
    "using Turing\n",
    "using LinearAlgebra\n",
    "using Random\n",
    "#using StatsPlots\n",
    "using PyPlot\n",
    "using Distributed\n",
    "\n",
    "# Extra deps\n",
    "using LogDensityProblemsAD, LogDensityProblems\n",
    "\n",
    "using Revise\n",
    "using MicroCanonicalHMC"
   ]
  },
  {
   "cell_type": "code",
   "execution_count": 3,
   "id": "90fdb90c",
   "metadata": {},
   "outputs": [
    {
     "data": {
      "text/plain": [
       "true_funnel (generic function with 2 methods)"
      ]
     },
     "execution_count": 3,
     "metadata": {},
     "output_type": "execute_result"
    }
   ],
   "source": [
    "d = 21\n",
    "@model function funnel()\n",
    "    θ ~ Truncated(Normal(0, 3), -3, 3)\n",
    "    z ~ MvNormal(zeros(d-1), exp(θ)*I)\n",
    "    x ~ MvNormal(z, I)\n",
    "end\n",
    "\n",
    "@model function true_funnel()\n",
    "    θ ~ Truncated(Normal(0, 3), -3, 3)\n",
    "    z ~ MvNormal(zeros(d-1), I)\n",
    "    zz = z .* exp(θ/2)\n",
    "    x ~ MvNormal(zz, I)\n",
    "    \n",
    "end\n"
   ]
  },
  {
   "cell_type": "code",
   "execution_count": 4,
   "id": "1eebe796",
   "metadata": {},
   "outputs": [
    {
     "data": {
      "text/plain": [
       "DynamicPPL.Model{typeof(true_funnel), (), (), (), Tuple{}, Tuple{}, DynamicPPL.ConditionContext{@NamedTuple{x::Vector{Float64}}, DynamicPPL.DefaultContext}}(true_funnel, NamedTuple(), NamedTuple(), ConditionContext((x = [1.2142074831535152, 1.23371919965455, -0.8480146960461767, 0.1600994648479841, 1.9180385508479283, -3.401523464506408, -0.0957684186471088, 0.6734622629464286, -3.2749467689509633, -1.6760091758453226, 1.9567202902549736, 0.1136169088905351, 0.11117896909388916, -0.5373922347882832, -0.12436857036298687, -1.2901071061088532, 1.702584517514787, -0.44460133117954226, 1.0818722439221686, 1.2208011493237483],), DynamicPPL.DefaultContext()))"
      ]
     },
     "execution_count": 4,
     "metadata": {},
     "output_type": "execute_result"
    }
   ],
   "source": [
    "Random.seed!(1)\n",
    "(;x) = rand(funnel() | (θ=0,))\n",
    "funnel_model = funnel() | (;x)\n",
    "\n",
    "Random.seed!(1)\n",
    "(;x) = rand(true_funnel() | (θ=0,))\n",
    "true_model = true_funnel() | (;x)"
   ]
  },
  {
   "cell_type": "code",
   "execution_count": 5,
   "id": "068aa52e",
   "metadata": {},
   "outputs": [
    {
     "data": {
      "text/plain": [
       "TuringTarget (generic function with 1 method)"
      ]
     },
     "execution_count": 5,
     "metadata": {},
     "output_type": "execute_result"
    }
   ],
   "source": [
    "function TuringTarget(model; kwargs...)\n",
    "    ctxt = model.context\n",
    "    vi = DynamicPPL.VarInfo(model, ctxt)\n",
    "    vi_t = Turing.link!!(vi, model)\n",
    "    θ_start = vi[DynamicPPL.SampleFromPrior()]\n",
    "    mds = values(vi.metadata)\n",
    "    dists =  [md.dists[1] for md in mds]\n",
    "    dist_lengths = [length(dist) for dist in dists]\n",
    "    ℓ = LogDensityProblemsAD.ADgradient(DynamicPPL.LogDensityFunction(vi_t, model, ctxt))\n",
    "    ℓπ(x) = LogDensityProblems.logdensity(ℓ, x)\n",
    "    ∂lπ∂θ(x) = LogDensityProblems.logdensity_and_gradient(ℓ, x)\n",
    "    \n",
    "    function _reshape_params(x::AbstractVector)\n",
    "        xx = []\n",
    "        idx = 0\n",
    "        for dist_length in dist_lengths\n",
    "            append!(xx, [x[idx+1:idx+dist_length]])\n",
    "            idx += dist_length\n",
    "        end\n",
    "        return xx\n",
    "    end\n",
    "\n",
    "    function transform(x)\n",
    "        x = _reshape_params(x)\n",
    "        xt = [Bijectors.link(dist, par) for (dist, par) in zip(dists, x)]\n",
    "        return vcat(xt...)\n",
    "    end\n",
    "\n",
    "    function inv_transform(xt)\n",
    "        xt = _reshape_params(xt)\n",
    "        x = [Bijectors.invlink(dist, par) for (dist, par) in zip(dists, xt)]\n",
    "        return vcat(x...)\n",
    "    end\n",
    "\n",
    "    \n",
    "    function _name_variables(vi, dist_lengths)\n",
    "        vsyms = keys(vi)\n",
    "        names = []\n",
    "        for (vsym, dist_length) in zip(vsyms, dist_lengths)\n",
    "            if dist_length == 1\n",
    "                name = [string(vsym)]\n",
    "                append!(names, name)\n",
    "            else\n",
    "                name = [string(vsym, i) for i = 1:dist_length]\n",
    "                append!(names, name)\n",
    "            end\n",
    "        end\n",
    "        return Vector{String}(names)\n",
    "    end\n",
    "\n",
    "    return CustomTarget(ℓπ, ∂lπ∂θ, θ_start;\n",
    "        transform=transform, \n",
    "        inv_transform=inv_transform, \n",
    "        θ_names=_name_variables(vi, dist_lengths))\n",
    "end"
   ]
  },
  {
   "cell_type": "markdown",
   "id": "e0a3137b",
   "metadata": {},
   "source": [
    "## MCHMC"
   ]
  },
  {
   "cell_type": "code",
   "execution_count": 6,
   "id": "7fba4eaa",
   "metadata": {
    "scrolled": false
   },
   "outputs": [
    {
     "data": {
      "text/plain": [
       "Turing.Inference.ExternalSampler{MicroCanonicalHMC.MCHMCSampler, AutoForwardDiff{nothing, Nothing}, true}(MicroCanonicalHMC.MCHMCSampler(20000, 0.01, true, true, true, true, MicroCanonicalHMC.Hyperparameters{Float64}(0.0, 0.0, [0.0], 0.0, 0.0, 0.0), MicroCanonicalHMC.Leapfrog), AutoForwardDiff{nothing, Nothing}(nothing))"
      ]
     },
     "execution_count": 6,
     "metadata": {},
     "output_type": "execute_result"
    }
   ],
   "source": [
    "mchmc = MCHMC(20_000, 0.01; adaptive=true)\n",
    "espl = externalsampler(mchmc)"
   ]
  },
  {
   "cell_type": "code",
   "execution_count": 7,
   "id": "3fb89023",
   "metadata": {},
   "outputs": [
    {
     "name": "stderr",
     "output_type": "stream",
     "text": [
      "\u001b[33m\u001b[1m┌ \u001b[22m\u001b[39m\u001b[33m\u001b[1mWarning: \u001b[22m\u001b[39mProgressMeter by default refresh meters with additional information in IJulia via `IJulia.clear_output`, which clears all outputs in the cell. \n",
      "\u001b[33m\u001b[1m│ \u001b[22m\u001b[39m - To prevent this behaviour, do `ProgressMeter.ijulia_behavior(:append)`. \n",
      "\u001b[33m\u001b[1m│ \u001b[22m\u001b[39m - To disable this warning message, do `ProgressMeter.ijulia_behavior(:clear)`.\n",
      "\u001b[33m\u001b[1m└ \u001b[22m\u001b[39m\u001b[90m@ ProgressMeter ~/.julia/packages/ProgressMeter/dMfiC/src/ProgressMeter.jl:594\u001b[39m\n",
      "\r\u001b[32mTuning:  47%|████████████████████▏                      |  ETA: 0:00:37\u001b[39m\r\n",
      "\u001b[34m  ϵ:     0.9438991731463843\u001b[39m\r\n",
      "\u001b[34m  L:     3487.171653476704\u001b[39m\r\n",
      "\u001b[34m  dE/d:  -0.01546796183126005\u001b[39m"
     ]
    },
    {
     "ename": "LoadError",
     "evalue": "InterruptException:",
     "output_type": "error",
     "traceback": [
      "InterruptException:",
      "",
      "Stacktrace:",
      "  [1] _erfcinv(y::Float64)",
      "    @ SpecialFunctions ~/.julia/packages/SpecialFunctions/npKKV/src/erf.jl:441",
      "  [2] erfcinv",
      "    @ ~/.julia/packages/SpecialFunctions/npKKV/src/erf.jl:439 [inlined]",
      "  [3] norminvcdf",
      "    @ ~/.julia/packages/StatsFuns/mrf0e/src/distrs/norm.jl:91 [inlined]",
      "  [4] map!(f::typeof(StatsFuns.norminvcdf), dest::SubArray{Float64, 2, Array{Float64, 3}, Tuple{Base.Slice{Base.OneTo{Int64}}, Base.Slice{Base.OneTo{Int64}}, Int64}, true}, A::SubArray{Float64, 2, Array{Float64, 3}, Tuple{Base.Slice{Base.OneTo{Int64}}, Base.Slice{Base.OneTo{Int64}}, Int64}, true})",
      "    @ Base ./abstractarray.jl:3278",
      "  [5] _rank_normalize!(values::SubArray{Float64, 2, Array{Float64, 3}, Tuple{Base.Slice{Base.OneTo{Int64}}, Base.Slice{Base.OneTo{Int64}}, Int64}, true}, x::SubArray{Float64, 2, Array{Float64, 3}, Tuple{Base.Slice{Base.OneTo{Int64}}, Base.Slice{Base.OneTo{Int64}}, Int64}, true})",
      "    @ MCMCDiagnosticTools ~/.julia/packages/MCMCDiagnosticTools/d8xMp/src/utils.jl:182",
      "  [6] #4",
      "    @ ./generator.jl:36 [inlined]",
      "  [7] iterate",
      "    @ ./generator.jl:47 [inlined]",
      "  [8] collect_to!(dest::Vector{SubArray{Float64, 2, Array{Float64, 3}, Tuple{Base.Slice{Base.OneTo{Int64}}, Base.Slice{Base.OneTo{Int64}}, Int64}, true}}, itr::Base.Generator{Base.Iterators.Zip{Tuple{Slices{Array{Float64, 3}, Tuple{Colon, Colon, Int64}, Tuple{Base.OneTo{Int64}}, SubArray{Float64, 2, Array{Float64, 3}, Tuple{Base.Slice{Base.OneTo{Int64}}, Base.Slice{Base.OneTo{Int64}}, Int64}, true}, 1}, Slices{Array{Float64, 3}, Tuple{Colon, Colon, Int64}, Tuple{Base.OneTo{Int64}}, SubArray{Float64, 2, Array{Float64, 3}, Tuple{Base.Slice{Base.OneTo{Int64}}, Base.Slice{Base.OneTo{Int64}}, Int64}, true}, 1}}}, Base.var\"#4#5\"{typeof(MCMCDiagnosticTools._rank_normalize!)}}, offs::Int64, st::Tuple{Tuple{Base.OneTo{Int64}, Int64}, Tuple{Base.OneTo{Int64}, Int64}})",
      "    @ Base ./array.jl:892",
      "  [9] collect_to_with_first!",
      "    @ ./array.jl:870 [inlined]",
      " [10] collect(itr::Base.Generator{Base.Iterators.Zip{Tuple{Slices{Array{Float64, 3}, Tuple{Colon, Colon, Int64}, Tuple{Base.OneTo{Int64}}, SubArray{Float64, 2, Array{Float64, 3}, Tuple{Base.Slice{Base.OneTo{Int64}}, Base.Slice{Base.OneTo{Int64}}, Int64}, true}, 1}, Slices{Array{Float64, 3}, Tuple{Colon, Colon, Int64}, Tuple{Base.OneTo{Int64}}, SubArray{Float64, 2, Array{Float64, 3}, Tuple{Base.Slice{Base.OneTo{Int64}}, Base.Slice{Base.OneTo{Int64}}, Int64}, true}, 1}}}, Base.var\"#4#5\"{typeof(MCMCDiagnosticTools._rank_normalize!)}})",
      "    @ Base ./array.jl:844",
      " [11] map(::Function, ::Slices{Array{Float64, 3}, Tuple{Colon, Colon, Int64}, Tuple{Base.OneTo{Int64}}, SubArray{Float64, 2, Array{Float64, 3}, Tuple{Base.Slice{Base.OneTo{Int64}}, Base.Slice{Base.OneTo{Int64}}, Int64}, true}, 1}, ::Slices{Array{Float64, 3}, Tuple{Colon, Colon, Int64}, Tuple{Base.OneTo{Int64}}, SubArray{Float64, 2, Array{Float64, 3}, Tuple{Base.Slice{Base.OneTo{Int64}}, Base.Slice{Base.OneTo{Int64}}, Int64}, true}, 1})",
      "    @ Base ./abstractarray.jl:3409",
      " [12] _rank_normalize(x::Array{Float64, 3})",
      "    @ MCMCDiagnosticTools ~/.julia/packages/MCMCDiagnosticTools/d8xMp/src/utils.jl:172",
      " [13] #_ess_rhat#53",
      "    @ ~/.julia/packages/MCMCDiagnosticTools/d8xMp/src/ess_rhat.jl:600 [inlined]",
      " [14] _ess_rhat",
      "    @ ~/.julia/packages/MCMCDiagnosticTools/d8xMp/src/ess_rhat.jl:599 [inlined]",
      " [15] _ess_rhat(::Val{:rank}, x::Array{Float64, 3}; split_chains::Int64, kwargs::@Kwargs{})",
      "    @ MCMCDiagnosticTools ~/.julia/packages/MCMCDiagnosticTools/d8xMp/src/ess_rhat.jl:615",
      " [16] _ess_rhat",
      "    @ ~/.julia/packages/MCMCDiagnosticTools/d8xMp/src/ess_rhat.jl:612 [inlined]",
      " [17] ess_rhat(samples::Array{Float64, 3}; kind::Symbol, kwargs::@Kwargs{})",
      "    @ MCMCDiagnosticTools ~/.julia/packages/MCMCDiagnosticTools/d8xMp/src/ess_rhat.jl:440",
      " [18] ess_rhat",
      "    @ ~/.julia/packages/MCMCDiagnosticTools/d8xMp/src/ess_rhat.jl:433 [inlined]",
      " [19] Summarize(samples::Matrix{Float64})",
      "    @ MicroCanonicalHMC ~/.julia/packages/MicroCanonicalHMC/iiYFK/src/utils.jl:12",
      " [20] tune_hyperparameters(rng::TaskLocalRNG, sampler::MicroCanonicalHMC.MCHMCSampler, state::MicroCanonicalHMC.MCHMCState{Float64}; kwargs::@Kwargs{initial_params::Nothing})",
      "    @ MicroCanonicalHMC ~/.julia/packages/MicroCanonicalHMC/iiYFK/src/tuning.jl:86",
      " [21] Step(rng::TaskLocalRNG, sampler::MicroCanonicalHMC.MCHMCSampler, h::MicroCanonicalHMC.Hamiltonian, x::Vector{Float64}; inv_transform::Function, kwargs::@Kwargs{initial_params::Nothing})",
      "    @ MicroCanonicalHMC ~/.julia/packages/MicroCanonicalHMC/iiYFK/src/sampler.jl:146",
      " [22] Step",
      "    @ ~/.julia/packages/MicroCanonicalHMC/iiYFK/src/sampler.jl:130 [inlined]",
      " [23] #step#42",
      "    @ ~/.julia/packages/MicroCanonicalHMC/iiYFK/src/abstractmcmc.jl:14 [inlined]",
      " [24] step(rng::TaskLocalRNG, model::DynamicPPL.Model{typeof(funnel), (), (), (), Tuple{}, Tuple{}, DynamicPPL.ConditionContext{@NamedTuple{x::Vector{Float64}}, DynamicPPL.DefaultContext}}, sampler_wrapper::DynamicPPL.Sampler{Turing.Inference.ExternalSampler{MicroCanonicalHMC.MCHMCSampler, AutoForwardDiff{nothing, Nothing}, true}}; initial_state::Nothing, initial_params::Nothing, kwargs::@Kwargs{})",
      "    @ Turing.Inference ~/.julia/packages/Turing/cH3wV/src/mcmc/abstractmcmc.jl:67",
      " [25] step",
      "    @ ~/.julia/packages/Turing/cH3wV/src/mcmc/abstractmcmc.jl:36 [inlined]",
      " [26] macro expansion",
      "    @ ~/.julia/packages/AbstractMCMC/YrmkI/src/sample.jl:130 [inlined]",
      " [27] macro expansion",
      "    @ ~/.julia/packages/ProgressLogging/6KXlp/src/ProgressLogging.jl:328 [inlined]",
      " [28] (::AbstractMCMC.var\"#22#23\"{Bool, String, Nothing, Int64, Int64, Nothing, @Kwargs{}, TaskLocalRNG, DynamicPPL.Model{typeof(funnel), (), (), (), Tuple{}, Tuple{}, DynamicPPL.ConditionContext{@NamedTuple{x::Vector{Float64}}, DynamicPPL.DefaultContext}}, DynamicPPL.Sampler{Turing.Inference.ExternalSampler{MicroCanonicalHMC.MCHMCSampler, AutoForwardDiff{nothing, Nothing}, true}}, Int64, Int64})()",
      "    @ AbstractMCMC ~/.julia/packages/AbstractMCMC/YrmkI/src/logging.jl:12",
      " [29] with_logstate(f::Function, logstate::Any)",
      "    @ Base.CoreLogging ./logging.jl:515",
      " [30] with_logger",
      "    @ ./logging.jl:627 [inlined]",
      " [31] with_progresslogger(f::Function, _module::Module, logger::Logging.ConsoleLogger)",
      "    @ AbstractMCMC ~/.julia/packages/AbstractMCMC/YrmkI/src/logging.jl:36",
      " [32] macro expansion",
      "    @ ~/.julia/packages/AbstractMCMC/YrmkI/src/logging.jl:11 [inlined]",
      " [33] mcmcsample(rng::TaskLocalRNG, model::DynamicPPL.Model{typeof(funnel), (), (), (), Tuple{}, Tuple{}, DynamicPPL.ConditionContext{@NamedTuple{x::Vector{Float64}}, DynamicPPL.DefaultContext}}, sampler::DynamicPPL.Sampler{Turing.Inference.ExternalSampler{MicroCanonicalHMC.MCHMCSampler, AutoForwardDiff{nothing, Nothing}, true}}, N::Int64; progress::Bool, progressname::String, callback::Nothing, discard_initial::Int64, thinning::Int64, chain_type::Type, initial_state::Nothing, kwargs::@Kwargs{})",
      "    @ AbstractMCMC ~/.julia/packages/AbstractMCMC/YrmkI/src/sample.jl:120",
      " [34] sample(rng::TaskLocalRNG, model::DynamicPPL.Model{typeof(funnel), (), (), (), Tuple{}, Tuple{}, DynamicPPL.ConditionContext{@NamedTuple{x::Vector{Float64}}, DynamicPPL.DefaultContext}}, sampler::DynamicPPL.Sampler{Turing.Inference.ExternalSampler{MicroCanonicalHMC.MCHMCSampler, AutoForwardDiff{nothing, Nothing}, true}}, N::Int64; chain_type::Type, resume_from::Nothing, initial_state::Nothing, kwargs::@Kwargs{})",
      "    @ DynamicPPL ~/.julia/packages/DynamicPPL/i2EbF/src/sampler.jl:93",
      " [35] sample",
      "    @ ~/.julia/packages/DynamicPPL/i2EbF/src/sampler.jl:83 [inlined]",
      " [36] #sample#4",
      "    @ ~/.julia/packages/Turing/cH3wV/src/mcmc/Inference.jl:263 [inlined]",
      " [37] sample",
      "    @ ~/.julia/packages/Turing/cH3wV/src/mcmc/Inference.jl:256 [inlined]",
      " [38] #sample#3",
      "    @ ~/.julia/packages/Turing/cH3wV/src/mcmc/Inference.jl:253 [inlined]",
      " [39] sample(model::DynamicPPL.Model{typeof(funnel), (), (), (), Tuple{}, Tuple{}, DynamicPPL.ConditionContext{@NamedTuple{x::Vector{Float64}}, DynamicPPL.DefaultContext}}, alg::Turing.Inference.ExternalSampler{MicroCanonicalHMC.MCHMCSampler, AutoForwardDiff{nothing, Nothing}, true}, N::Int64)",
      "    @ Turing.Inference ~/.julia/packages/Turing/cH3wV/src/mcmc/Inference.jl:247",
      " [40] top-level scope",
      "    @ In[7]:1"
     ]
    }
   ],
   "source": [
    "samples = sample(funnel_model, espl, 100_000);"
   ]
  },
  {
   "cell_type": "code",
   "execution_count": null,
   "id": "028ab552",
   "metadata": {},
   "outputs": [],
   "source": [
    "theta_mchmc = [samples.value.data[i, 1, :][1] for i in axes(samples.value.data)[1]]\n",
    "x10_mchmc = [samples.value.data[i, 10+1, :][1] for i in axes(samples.value.data)[1]];"
   ]
  },
  {
   "cell_type": "markdown",
   "id": "40b19702",
   "metadata": {},
   "source": [
    "### Using the Sample interface"
   ]
  },
  {
   "cell_type": "code",
   "execution_count": 8,
   "id": "a1179979",
   "metadata": {},
   "outputs": [
    {
     "name": "stderr",
     "output_type": "stream",
     "text": [
      "\u001b[33m\u001b[1m┌ \u001b[22m\u001b[39m\u001b[33m\u001b[1mWarning: \u001b[22m\u001b[39mProgressMeter by default refresh meters with additional information in IJulia via `IJulia.clear_output`, which clears all outputs in the cell. \n",
      "\u001b[33m\u001b[1m│ \u001b[22m\u001b[39m - To prevent this behaviour, do `ProgressMeter.ijulia_behavior(:append)`. \n",
      "\u001b[33m\u001b[1m│ \u001b[22m\u001b[39m - To disable this warning message, do `ProgressMeter.ijulia_behavior(:clear)`.\n",
      "\u001b[33m\u001b[1m└ \u001b[22m\u001b[39m\u001b[90m@ ProgressMeter ~/.julia/packages/ProgressMeter/dMfiC/src/ProgressMeter.jl:594\u001b[39m\n",
      "\r\u001b[32mTuning:  31%|█████████████▌                             |  ETA: 0:00:32\u001b[39m\r\n",
      "\u001b[34m  ϵ:     2.1587158475693577\u001b[39m\r\n",
      "\u001b[34m  L:     5097.194115733048\u001b[39m\r\n",
      "\u001b[34m  dE/d:  0.011535106628282879\u001b[39m"
     ]
    },
    {
     "ename": "LoadError",
     "evalue": "InterruptException:",
     "output_type": "error",
     "traceback": [
      "InterruptException:",
      "",
      "Stacktrace:",
      "  [1] send_to_end!(f::Base.Sort.var\"#21#24\"{Base.Order.Perm{Base.Order.ForwardOrdering, Base.ReshapedArray{Float64, 1, SubArray{Float64, 2, Array{Float64, 3}, Tuple{Base.Slice{Base.OneTo{Int64}}, Base.Slice{Base.OneTo{Int64}}, Int64}, true}, Tuple{}}}}, v::Vector{Int64}; lo::Int64, hi::Int64)",
      "    @ Base.Sort ./sort.jl:572",
      "  [2] send_to_end!",
      "    @ ./sort.jl:572 [inlined]",
      "  [3] _sort!(v::Vector{Int64}, a::Base.Sort.IEEEFloatOptimization{Base.Sort.IsUIntMappable{Base.Sort.Small{40, Base.Sort.InsertionSortAlg, Base.Sort.CheckSorted{Base.Sort.ComputeExtrema{Base.Sort.ConsiderCountingSort{Base.Sort.CountingSort, Base.Sort.ConsiderRadixSort{Base.Sort.RadixSort, Base.Sort.Small{80, Base.Sort.InsertionSortAlg, Base.Sort.ScratchQuickSort{Missing, Missing, Base.Sort.InsertionSortAlg}}}}}}}, Base.Sort.StableCheckSorted{Base.Sort.ScratchQuickSort{Missing, Missing, Base.Sort.InsertionSortAlg}}}}, o::Base.Order.Perm{Base.Order.ForwardOrdering, Base.ReshapedArray{Float64, 1, SubArray{Float64, 2, Array{Float64, 3}, Tuple{Base.Slice{Base.OneTo{Int64}}, Base.Slice{Base.OneTo{Int64}}, Int64}, true}, Tuple{}}}, kw::@NamedTuple{scratch::Nothing, lo::Int64, hi::Int64})",
      "    @ Base.Sort ./sort.jl:673",
      "  [4] _sort!",
      "    @ ./sort.jl:752 [inlined]",
      "  [5] _sort!",
      "    @ ./sort.jl:697 [inlined]",
      "  [6] _sort!",
      "    @ ./sort.jl:636 [inlined]",
      "  [7] #sort!#28",
      "    @ ./sort.jl:1463 [inlined]",
      "  [8] sort!",
      "    @ ./sort.jl:1456 [inlined]",
      "  [9] #_sortperm#33",
      "    @ ./sort.jl:1664 [inlined]",
      " [10] _sortperm",
      "    @ ./sort.jl:1651 [inlined]",
      " [11] #sortperm#32",
      "    @ ./sort.jl:1648 [inlined]",
      " [12] sortperm",
      "    @ ./sort.jl:1637 [inlined]",
      " [13] _rank(f!::typeof(StatsBase._tiedrank!), x::SubArray{Float64, 2, Array{Float64, 3}, Tuple{Base.Slice{Base.OneTo{Int64}}, Base.Slice{Base.OneTo{Int64}}, Int64}, true}, R::Type; sortkwargs::@Kwargs{})",
      "    @ StatsBase ~/.julia/packages/StatsBase/ebrT3/src/ranking.jl:21",
      " [14] _rank",
      "    @ ~/.julia/packages/StatsBase/ebrT3/src/ranking.jl:19 [inlined]",
      " [15] tiedrank",
      "    @ ~/.julia/packages/StatsBase/ebrT3/src/ranking.jl:175 [inlined]",
      " [16] _rank_normalize!(values::SubArray{Float64, 2, Array{Float64, 3}, Tuple{Base.Slice{Base.OneTo{Int64}}, Base.Slice{Base.OneTo{Int64}}, Int64}, true}, x::SubArray{Float64, 2, Array{Float64, 3}, Tuple{Base.Slice{Base.OneTo{Int64}}, Base.Slice{Base.OneTo{Int64}}, Int64}, true})",
      "    @ MCMCDiagnosticTools ~/.julia/packages/MCMCDiagnosticTools/d8xMp/src/utils.jl:180",
      " [17] #4",
      "    @ ./generator.jl:36 [inlined]",
      " [18] iterate",
      "    @ ./generator.jl:47 [inlined]",
      " [19] collect_to!(dest::Vector{SubArray{Float64, 2, Array{Float64, 3}, Tuple{Base.Slice{Base.OneTo{Int64}}, Base.Slice{Base.OneTo{Int64}}, Int64}, true}}, itr::Base.Generator{Base.Iterators.Zip{Tuple{Slices{Array{Float64, 3}, Tuple{Colon, Colon, Int64}, Tuple{Base.OneTo{Int64}}, SubArray{Float64, 2, Array{Float64, 3}, Tuple{Base.Slice{Base.OneTo{Int64}}, Base.Slice{Base.OneTo{Int64}}, Int64}, true}, 1}, Slices{Array{Float64, 3}, Tuple{Colon, Colon, Int64}, Tuple{Base.OneTo{Int64}}, SubArray{Float64, 2, Array{Float64, 3}, Tuple{Base.Slice{Base.OneTo{Int64}}, Base.Slice{Base.OneTo{Int64}}, Int64}, true}, 1}}}, Base.var\"#4#5\"{typeof(MCMCDiagnosticTools._rank_normalize!)}}, offs::Int64, st::Tuple{Tuple{Base.OneTo{Int64}, Int64}, Tuple{Base.OneTo{Int64}, Int64}})",
      "    @ Base ./array.jl:892",
      " [20] collect_to_with_first!",
      "    @ ./array.jl:870 [inlined]",
      " [21] collect(itr::Base.Generator{Base.Iterators.Zip{Tuple{Slices{Array{Float64, 3}, Tuple{Colon, Colon, Int64}, Tuple{Base.OneTo{Int64}}, SubArray{Float64, 2, Array{Float64, 3}, Tuple{Base.Slice{Base.OneTo{Int64}}, Base.Slice{Base.OneTo{Int64}}, Int64}, true}, 1}, Slices{Array{Float64, 3}, Tuple{Colon, Colon, Int64}, Tuple{Base.OneTo{Int64}}, SubArray{Float64, 2, Array{Float64, 3}, Tuple{Base.Slice{Base.OneTo{Int64}}, Base.Slice{Base.OneTo{Int64}}, Int64}, true}, 1}}}, Base.var\"#4#5\"{typeof(MCMCDiagnosticTools._rank_normalize!)}})",
      "    @ Base ./array.jl:844",
      " [22] map(::Function, ::Slices{Array{Float64, 3}, Tuple{Colon, Colon, Int64}, Tuple{Base.OneTo{Int64}}, SubArray{Float64, 2, Array{Float64, 3}, Tuple{Base.Slice{Base.OneTo{Int64}}, Base.Slice{Base.OneTo{Int64}}, Int64}, true}, 1}, ::Slices{Array{Float64, 3}, Tuple{Colon, Colon, Int64}, Tuple{Base.OneTo{Int64}}, SubArray{Float64, 2, Array{Float64, 3}, Tuple{Base.Slice{Base.OneTo{Int64}}, Base.Slice{Base.OneTo{Int64}}, Int64}, true}, 1})",
      "    @ Base ./abstractarray.jl:3409",
      " [23] _rank_normalize(x::Array{Float64, 3})",
      "    @ MCMCDiagnosticTools ~/.julia/packages/MCMCDiagnosticTools/d8xMp/src/utils.jl:172",
      " [24] #_ess_rhat#53",
      "    @ ~/.julia/packages/MCMCDiagnosticTools/d8xMp/src/ess_rhat.jl:600 [inlined]",
      " [25] _ess_rhat",
      "    @ ~/.julia/packages/MCMCDiagnosticTools/d8xMp/src/ess_rhat.jl:599 [inlined]",
      " [26] _ess_rhat(::Val{:rank}, x::Array{Float64, 3}; split_chains::Int64, kwargs::@Kwargs{})",
      "    @ MCMCDiagnosticTools ~/.julia/packages/MCMCDiagnosticTools/d8xMp/src/ess_rhat.jl:615",
      " [27] _ess_rhat",
      "    @ ~/.julia/packages/MCMCDiagnosticTools/d8xMp/src/ess_rhat.jl:612 [inlined]",
      " [28] ess_rhat(samples::Array{Float64, 3}; kind::Symbol, kwargs::@Kwargs{})",
      "    @ MCMCDiagnosticTools ~/.julia/packages/MCMCDiagnosticTools/d8xMp/src/ess_rhat.jl:440",
      " [29] ess_rhat",
      "    @ ~/.julia/packages/MCMCDiagnosticTools/d8xMp/src/ess_rhat.jl:433 [inlined]",
      " [30] Summarize(samples::Matrix{Float64})",
      "    @ MicroCanonicalHMC ~/.julia/packages/MicroCanonicalHMC/iiYFK/src/utils.jl:12",
      " [31] tune_hyperparameters(rng::Random._GLOBAL_RNG, sampler::MicroCanonicalHMC.MCHMCSampler, state::MicroCanonicalHMC.MCHMCState{Float64}; kwargs::@Kwargs{})",
      "    @ MicroCanonicalHMC ~/.julia/packages/MicroCanonicalHMC/iiYFK/src/tuning.jl:86",
      " [32] tune_hyperparameters",
      "    @ ~/.julia/packages/MicroCanonicalHMC/iiYFK/src/tuning.jl:62 [inlined]",
      " [33] Step(rng::Random._GLOBAL_RNG, sampler::MicroCanonicalHMC.MCHMCSampler, h::MicroCanonicalHMC.Hamiltonian, x::Vector{Float64}; inv_transform::Function, kwargs::@Kwargs{})",
      "    @ MicroCanonicalHMC ~/.julia/packages/MicroCanonicalHMC/iiYFK/src/sampler.jl:146",
      " [34] Sample(rng::Random._GLOBAL_RNG, sampler::MicroCanonicalHMC.MCHMCSampler, target::MicroCanonicalHMC.Target{Float64}, n::Int64; thinning::Int64, init_params::Nothing, file_chunk::Int64, fol_name::String, file_name::String, include_latent::Bool, kwargs::@Kwargs{})",
      "    @ MicroCanonicalHMC ~/.julia/packages/MicroCanonicalHMC/iiYFK/src/sampler.jl:261",
      " [35] Sample",
      "    @ ~/.julia/packages/MicroCanonicalHMC/iiYFK/src/sampler.jl:235 [inlined]",
      " [36] #Sample#35",
      "    @ ~/.julia/packages/MicroCanonicalHMC/iiYFK/src/sampler.jl:212 [inlined]",
      " [37] Sample(sampler::MicroCanonicalHMC.MCHMCSampler, target::MicroCanonicalHMC.Target{Float64}, n::Int64)",
      "    @ MicroCanonicalHMC ~/.julia/packages/MicroCanonicalHMC/iiYFK/src/sampler.jl:206",
      " [38] top-level scope",
      "    @ In[8]:2"
     ]
    }
   ],
   "source": [
    "target = TuringTarget(funnel_model)\n",
    "ssamples = Sample(mchmc, target, 100_000)"
   ]
  },
  {
   "cell_type": "code",
   "execution_count": null,
   "id": "c5d19a82",
   "metadata": {},
   "outputs": [],
   "source": [
    "println(mean(ssamples[1, :]), \" \", std(ssamples[1, :]))\n",
    "println(mean(ssamples[11, :]), \" \", std(ssamples[11, :]))"
   ]
  },
  {
   "cell_type": "code",
   "execution_count": null,
   "id": "9c5f7abf",
   "metadata": {},
   "outputs": [],
   "source": [
    "println(mean(theta_mchmc), \" \", std(theta_mchmc))\n",
    "println(mean(x10_mchmc), \" \", std(x10_mchmc))"
   ]
  },
  {
   "cell_type": "markdown",
   "id": "b8f12f9d",
   "metadata": {},
   "source": [
    "## NUTS"
   ]
  },
  {
   "cell_type": "code",
   "execution_count": null,
   "id": "191958da",
   "metadata": {},
   "outputs": [],
   "source": [
    "samples_hmc = sample(funnel_model, NUTS(10, 0.95), 50_000, progress=true; save_state=true)"
   ]
  },
  {
   "cell_type": "code",
   "execution_count": null,
   "id": "919c8b29",
   "metadata": {},
   "outputs": [],
   "source": [
    "theta_hmc = [samples_hmc.value.data[i, 1, :][1] for i in axes(samples_hmc.value.data)[1]]\n",
    "x10_hmc = [samples_hmc.value.data[i, 10+1, :][1] for i in axes(samples_hmc.value.data)[1]];\n"
   ]
  },
  {
   "cell_type": "code",
   "execution_count": null,
   "id": "a23f6d7d",
   "metadata": {},
   "outputs": [],
   "source": [
    "truth_hmc = sample(true_model, NUTS(10, 0.95), 50_000, progress=true; save_state=true)"
   ]
  },
  {
   "cell_type": "code",
   "execution_count": null,
   "id": "0c724724",
   "metadata": {},
   "outputs": [],
   "source": [
    "true_theta_hmc = [truth_hmc.value.data[i, 1, :][1] for i in axes(truth_hmc.value.data)[1]]\n",
    "true_x10_hmc = [truth_hmc.value.data[i, 10+1, :][1] * exp(truth_hmc.value.data[i, 1, :][1]/2) for i in axes(truth_hmc.value.data)[1]];\n"
   ]
  },
  {
   "cell_type": "markdown",
   "id": "0ff2cf05",
   "metadata": {},
   "source": [
    "## Comp"
   ]
  },
  {
   "cell_type": "code",
   "execution_count": null,
   "id": "7fd22388",
   "metadata": {},
   "outputs": [],
   "source": [
    "fig, axis = plt.subplots(2, 2, figsize=(8,8))\n",
    "fig.suptitle(\"Neal's Funnel Comp.\", fontsize=16)\n",
    "\n",
    "fig.subplots_adjust(hspace=0)\n",
    "fig.subplots_adjust(wspace=0)\n",
    "\n",
    "axis[1,1].hist(x10_mchmc, bins=100, density=true, range=[-6,2], alpha = 0.3, label=\"MCHMC\")\n",
    "axis[1,1].hist(x10_hmc, bins=100, density=true, range=[-6,2], alpha = 0.3, label=\"NUTS\")\n",
    "axis[1,1].hist(true_x10_hmc, bins=100, density=true, range=[-6,2], alpha = 0.3, label=\"NUTS - Truth\")\n",
    "axis[1,1].legend()\n",
    "axis[1,1].set_yticks([])\n",
    "\n",
    "axis[2,2].hist(theta_mchmc, bins=100, density=true, orientation=\"horizontal\", range=[-6, 2], alpha = 0.3)\n",
    "axis[2,2].hist(theta_hmc, bins=100, density=true, orientation=\"horizontal\", range=[-6, 2], alpha = 0.3)\n",
    "axis[2,2].hist(true_theta_hmc, bins=100, density=true, orientation=\"horizontal\", range=[-6,2], alpha = 0.3)\n",
    "axis[2,2].set_xticks([])\n",
    "axis[2,2].set_yticks([])\n",
    "\n",
    "axis[1,2].hist2d(true_x10_hmc, true_theta_hmc, bins=100, range=[[-6,2],[-4, 2]])\n",
    "axis[1,2].set_xlabel(\"x10\")\n",
    "axis[1,2].set_ylabel(\"theta\")\n",
    "axis[1,2].set_title(\"NUTS\")\n",
    "\n",
    "axis[2,1].hist2d(x10_mchmc, theta_mchmc, bins=100, range=[[-6,2],[-4, 2]])\n",
    "axis[2,1].set_xlabel(\"x10\")\n",
    "axis[2,1].set_ylabel(\"theta\")\n",
    "axis[2,1].set_title(\"MCHMC\")"
   ]
  },
  {
   "cell_type": "code",
   "execution_count": null,
   "id": "8a248186",
   "metadata": {},
   "outputs": [],
   "source": []
  }
 ],
 "metadata": {
  "kernelspec": {
   "display_name": "Julia (10 threads) 1.10.3",
   "language": "julia",
   "name": "julia-_10-threads_-1.10"
  },
  "language_info": {
   "file_extension": ".jl",
   "mimetype": "application/julia",
   "name": "julia",
   "version": "1.10.3"
  }
 },
 "nbformat": 4,
 "nbformat_minor": 5
}
