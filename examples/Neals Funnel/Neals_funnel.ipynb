{
 "cells": [
  {
   "attachments": {},
   "cell_type": "markdown",
   "id": "91129cb1",
   "metadata": {},
   "source": [
    "# Neal's Funnel Target Practice"
   ]
  },
  {
   "cell_type": "code",
   "execution_count": 1,
   "id": "86b96c9e",
   "metadata": {},
   "outputs": [
    {
     "name": "stderr",
     "output_type": "stream",
     "text": [
      "\u001b[32m\u001b[1m  Activating\u001b[22m\u001b[39m project at `~/PhD/MicroCanonicalHMC.jl/examples`\n"
     ]
    }
   ],
   "source": [
    "] activate \"../\""
   ]
  },
  {
   "cell_type": "code",
   "execution_count": 2,
   "id": "baed58e3",
   "metadata": {},
   "outputs": [],
   "source": [
    "# The statistical inference frame-work we will use\n",
    "using Turing\n",
    "using ForwardDiff\n",
    "using LinearAlgebra\n",
    "using Random\n",
    "#using StatsPlots\n",
    "using PyPlot\n",
    "using Distributed\n",
    "\n",
    "using Revise\n",
    "using MicroCanonicalHMC"
   ]
  },
  {
   "cell_type": "code",
   "execution_count": 3,
   "id": "90fdb90c",
   "metadata": {},
   "outputs": [
    {
     "data": {
      "text/plain": [
       "true_funnel (generic function with 2 methods)"
      ]
     },
     "execution_count": 3,
     "metadata": {},
     "output_type": "execute_result"
    }
   ],
   "source": [
    "d = 21\n",
    "@model function funnel()\n",
    "    θ ~ Truncated(Normal(0, 3), -3, 3)\n",
    "    z ~ MvNormal(zeros(d-1), exp(θ)*I)\n",
    "    x ~ MvNormal(z, I)\n",
    "end\n",
    "\n",
    "@model function true_funnel()\n",
    "    θ ~ Truncated(Normal(0, 3), -3, 3)\n",
    "    z ~ MvNormal(zeros(d-1), I)\n",
    "    zz = z .* exp(θ/2)\n",
    "    x ~ MvNormal(zz, I)\n",
    "    \n",
    "end\n"
   ]
  },
  {
   "cell_type": "code",
   "execution_count": 4,
   "id": "1eebe796",
   "metadata": {},
   "outputs": [
    {
     "data": {
      "text/plain": [
       "DynamicPPL.Model{typeof(true_funnel), (), (), (), Tuple{}, Tuple{}, DynamicPPL.ConditionContext{NamedTuple{(:x,), Tuple{Vector{Float64}}}, DynamicPPL.DefaultContext}}(true_funnel, NamedTuple(), NamedTuple(), ConditionContext((x = [1.2142074831535152, 1.23371919965455, -0.8480146960461767, 0.1600994648479841, 1.9180385508479283, -3.401523464506408, -0.0957684186471088, 0.6734622629464286, -3.2749467689509633, -1.6760091758453226, 1.9567202902549736, 0.1136169088905351, 0.11117896909388916, -0.5373922347882832, -0.12436857036298687, -1.2901071061088532, 1.702584517514787, -0.44460133117954226, 1.0818722439221686, 1.2208011493237483],), DynamicPPL.DefaultContext()))"
      ]
     },
     "execution_count": 4,
     "metadata": {},
     "output_type": "execute_result"
    }
   ],
   "source": [
    "Random.seed!(1)\n",
    "(;x) = rand(funnel() | (θ=0,))\n",
    "funnel_model = funnel() | (;x)\n",
    "\n",
    "Random.seed!(1)\n",
    "(;x) = rand(true_funnel() | (θ=0,))\n",
    "true_model = true_funnel() | (;x)"
   ]
  },
  {
   "cell_type": "markdown",
   "id": "e0a3137b",
   "metadata": {},
   "source": [
    "## MCHMC"
   ]
  },
  {
   "cell_type": "code",
   "execution_count": 5,
   "id": "7fba4eaa",
   "metadata": {
    "scrolled": false
   },
   "outputs": [
    {
     "data": {
      "text/plain": [
       "Turing.Inference.ExternalSampler{MicroCanonicalHMC.MCHMCSampler}(MicroCanonicalHMC.MCHMCSampler(Settings{Float64}(10000, 0.01, 1, true, \"LF\", nothing, nothing, nothing), MicroCanonicalHMC.Hyperparameters{Float64}(0.0, 0.0, 0.0, 0.1931833275037836, [0.0], 0.9607843137254902, 1.5), MicroCanonicalHMC.Leapfrog))"
      ]
     },
     "execution_count": 5,
     "metadata": {},
     "output_type": "execute_result"
    }
   ],
   "source": [
    "mchmc = MCHMC(10_000, 0.01; adaptive=true)\n",
    "espl = externalsampler(mchmc)"
   ]
  },
  {
   "cell_type": "code",
   "execution_count": 6,
   "id": "3fb89023",
   "metadata": {},
   "outputs": [
    {
     "name": "stderr",
     "output_type": "stream",
     "text": [
      "\u001b[36m\u001b[1m[ \u001b[22m\u001b[39m\u001b[36m\u001b[1mInfo: \u001b[22m\u001b[39mTuning sigma ⏳\n",
      "\u001b[36m\u001b[1m[ \u001b[22m\u001b[39m\u001b[36m\u001b[1mInfo: \u001b[22m\u001b[39mTuning eps ⏳\n",
      "\u001b[36m\u001b[1m[ \u001b[22m\u001b[39m\u001b[36m\u001b[1mInfo: \u001b[22m\u001b[39mTuning L ⏳\n",
      "\u001b[A2mMCHMC (tuning): 100%|███████████████████████████████████| Time: 0:00:02\u001b[39m\u001b[36m\u001b[1m[ \u001b[22m\u001b[39m\u001b[36m\u001b[1mInfo: \u001b[22m\u001b[39meps: 2.0304592102086936\n",
      "\u001b[36m\u001b[1m[ \u001b[22m\u001b[39m\u001b[36m\u001b[1mInfo: \u001b[22m\u001b[39mL: 1.4928282122834324\n",
      "\u001b[36m\u001b[1m[ \u001b[22m\u001b[39m\u001b[36m\u001b[1mInfo: \u001b[22m\u001b[39mnu: 0.7481779052993971\n",
      "\u001b[36m\u001b[1m[ \u001b[22m\u001b[39m\u001b[36m\u001b[1mInfo: \u001b[22m\u001b[39msigma: [0.46877701045525294, 0.7289817113751998, 0.7331133841488856, 0.6841304995433358, 0.6979520168500961, 0.7637234877894613, 0.8984401445253866, 0.7034622924921385, 0.7152009865192305, 0.8717790425609168, 0.7623423597531129, 0.775609782105544, 0.7264420689061577, 0.7095250866148037, 0.716838749815587, 0.7289652097147307, 0.7344234693242181, 0.7629335205638594, 0.7140717569046054, 0.7300202509815035, 0.7262180029886762]\n",
      "\u001b[36m\u001b[1m[ \u001b[22m\u001b[39m\u001b[36m\u001b[1mInfo: \u001b[22m\u001b[39madaptive: true\n",
      "\u001b[32mSampling: 100%|█████████████████████████████████████████| Time: 0:00:04\u001b[39m\n"
     ]
    }
   ],
   "source": [
    "samples = sample(funnel_model, espl, 100_000);"
   ]
  },
  {
   "cell_type": "code",
   "execution_count": 7,
   "id": "028ab552",
   "metadata": {},
   "outputs": [],
   "source": [
    "theta_mchmc = [samples.value.data[i, 1, :][1] for i in axes(samples.value.data)[1]]\n",
    "x10_mchmc = [samples.value.data[i, 10+1, :][1] for i in axes(samples.value.data)[1]];"
   ]
  },
  {
   "cell_type": "markdown",
   "id": "b8f12f9d",
   "metadata": {},
   "source": [
    "## NUTS"
   ]
  },
  {
   "cell_type": "code",
   "execution_count": 8,
   "id": "191958da",
   "metadata": {},
   "outputs": [
    {
     "name": "stderr",
     "output_type": "stream",
     "text": [
      "\u001b[36m\u001b[1m┌ \u001b[22m\u001b[39m\u001b[36m\u001b[1mInfo: \u001b[22m\u001b[39mFound initial step size\n",
      "\u001b[36m\u001b[1m└ \u001b[22m\u001b[39m  ϵ = 0.8\n",
      "\u001b[32mSampling: 100%|█████████████████████████████████████████| Time: 0:00:49\u001b[39m\n"
     ]
    },
    {
     "data": {
      "text/plain": [
       "Chains MCMC chain (50000×33×1 Array{Float64, 3}):\n",
       "\n",
       "Iterations        = 11:1:50010\n",
       "Number of chains  = 1\n",
       "Samples per chain = 50000\n",
       "Wall duration     = 52.88 seconds\n",
       "Compute duration  = 52.88 seconds\n",
       "parameters        = θ, z[1], z[2], z[3], z[4], z[5], z[6], z[7], z[8], z[9], z[10], z[11], z[12], z[13], z[14], z[15], z[16], z[17], z[18], z[19], z[20]\n",
       "internals         = lp, n_steps, is_accept, acceptance_rate, log_density, hamiltonian_energy, hamiltonian_energy_error, max_hamiltonian_energy_error, tree_depth, numerical_error, step_size, nom_step_size\n",
       "\n",
       "Summary Statistics\n",
       " \u001b[1m parameters \u001b[0m \u001b[1m    mean \u001b[0m \u001b[1m     std \u001b[0m \u001b[1m    mcse \u001b[0m \u001b[1m   ess_bulk \u001b[0m \u001b[1m   ess_tail \u001b[0m \u001b[1m    rhat\u001b[0m ⋯\n",
       " \u001b[90m     Symbol \u001b[0m \u001b[90m Float64 \u001b[0m \u001b[90m Float64 \u001b[0m \u001b[90m Float64 \u001b[0m \u001b[90m    Float64 \u001b[0m \u001b[90m    Float64 \u001b[0m \u001b[90m Float64\u001b[0m ⋯\n",
       "\n",
       "           θ    0.0116    0.7026    0.0083    8976.1409    6750.1368    1.0000 ⋯\n",
       "        z[1]    0.6151    0.7388    0.0034   48074.8220   34194.7046    1.0001 ⋯\n",
       "        z[2]    0.6270    0.7307    0.0034   46768.1011   35093.2335    1.0000 ⋯\n",
       "        z[3]   -0.4266    0.7243    0.0029   63181.7704   32822.9820    1.0001 ⋯\n",
       "        z[4]    0.0834    0.7091    0.0026   74327.4858   35264.6231    1.0000 ⋯\n",
       "        z[5]    0.9675    0.7708    0.0044   30017.1626   33023.9002    1.0000 ⋯\n",
       "        z[6]   -1.7188    0.8863    0.0068   16185.2458   17087.7761    1.0000 ⋯\n",
       "        z[7]   -0.0455    0.7133    0.0025   80461.0024   34547.8262    1.0000 ⋯\n",
       "        z[8]    0.3413    0.7198    0.0027   70799.9106   34916.9607    1.0000 ⋯\n",
       "        z[9]   -1.6571    0.8766    0.0064   18138.7483   20176.6336    1.0000 ⋯\n",
       "       z[10]   -0.8479    0.7601    0.0040   36112.0029   33210.4874    1.0000 ⋯\n",
       "       z[11]    0.9919    0.7745    0.0045   29455.1414   33970.2804    1.0000 ⋯\n",
       "       z[12]    0.0595    0.7144    0.0025   83335.3762   32317.3911    1.0000 ⋯\n",
       "       z[13]    0.0548    0.7126    0.0025   81119.3437   33772.9035    1.0000 ⋯\n",
       "       z[14]   -0.2729    0.7181    0.0027   73819.2525   34262.4279    1.0000 ⋯\n",
       "       z[15]   -0.0634    0.7074    0.0025   79642.3003   34417.1087    1.0000 ⋯\n",
       "       z[16]   -0.6545    0.7401    0.0034   49629.1794   34975.1658    1.0000 ⋯\n",
       "       z[17]    0.8653    0.7618    0.0041   34980.7162   33788.5905    1.0000 ⋯\n",
       "       z[18]   -0.2257    0.7172    0.0026   73835.3450   35095.6062    1.0002 ⋯\n",
       "       z[19]    0.5502    0.7326    0.0032   52085.3302   35235.1969    1.0000 ⋯\n",
       "       z[20]    0.6175    0.7389    0.0034   48061.9104   34687.1742    1.0000 ⋯\n",
       "\u001b[36m                                                                1 column omitted\u001b[0m\n",
       "\n",
       "Quantiles\n",
       " \u001b[1m parameters \u001b[0m \u001b[1m    2.5% \u001b[0m \u001b[1m   25.0% \u001b[0m \u001b[1m   50.0% \u001b[0m \u001b[1m   75.0% \u001b[0m \u001b[1m   97.5% \u001b[0m\n",
       " \u001b[90m     Symbol \u001b[0m \u001b[90m Float64 \u001b[0m \u001b[90m Float64 \u001b[0m \u001b[90m Float64 \u001b[0m \u001b[90m Float64 \u001b[0m \u001b[90m Float64 \u001b[0m\n",
       "\n",
       "           θ   -1.6798   -0.3663    0.0892    0.4911    1.1706\n",
       "        z[1]   -0.7623    0.1092    0.5799    1.0921    2.1498\n",
       "        z[2]   -0.7249    0.1268    0.5926    1.1017    2.1375\n",
       "        z[3]   -1.9127   -0.8861   -0.4021    0.0551    0.9566\n",
       "        z[4]   -1.3014   -0.3824    0.0770    0.5399    1.4995\n",
       "        z[5]   -0.4277    0.4236    0.9267    1.4690    2.5772\n",
       "        z[6]   -3.5473   -2.3045   -1.6886   -1.0845   -0.1195\n",
       "        z[7]   -1.4800   -0.5037   -0.0406    0.4186    1.3590\n",
       "        z[8]   -1.0413   -0.1355    0.3226    0.8014    1.8102\n",
       "        z[9]   -3.4666   -2.2392   -1.6267   -1.0272   -0.0847\n",
       "       z[10]   -2.4325   -1.3386   -0.8110   -0.3149    0.5402\n",
       "       z[11]   -0.4073    0.4502    0.9540    1.4932    2.6223\n",
       "       z[12]   -1.3493   -0.4067    0.0538    0.5216    1.4953\n",
       "       z[13]   -1.3438   -0.4084    0.0492    0.5127    1.4824\n",
       "       z[14]   -1.7288   -0.7342   -0.2567    0.2045    1.1108\n",
       "       z[15]   -1.4725   -0.5221   -0.0615    0.4000    1.3267\n",
       "       z[16]   -2.1839   -1.1359   -0.6200   -0.1452    0.7165\n",
       "       z[17]   -0.5168    0.3315    0.8289    1.3605    2.4362\n",
       "       z[18]   -1.6707   -0.6911   -0.2127    0.2451    1.1656\n",
       "       z[19]   -0.8192    0.0551    0.5182    1.0206    2.0540\n",
       "       z[20]   -0.7716    0.1167    0.5873    1.0914    2.1618\n"
      ]
     },
     "execution_count": 8,
     "metadata": {},
     "output_type": "execute_result"
    }
   ],
   "source": [
    "samples_hmc = sample(funnel_model, NUTS(10, 0.95), 50_000, progress=true; save_state=true)"
   ]
  },
  {
   "cell_type": "code",
   "execution_count": 9,
   "id": "919c8b29",
   "metadata": {},
   "outputs": [],
   "source": [
    "theta_hmc = [samples_hmc.value.data[i, 1, :][1] for i in axes(samples_hmc.value.data)[1]]\n",
    "x10_hmc = [samples_hmc.value.data[i, 10+1, :][1] for i in axes(samples_hmc.value.data)[1]];\n"
   ]
  },
  {
   "cell_type": "code",
   "execution_count": 10,
   "id": "a23f6d7d",
   "metadata": {},
   "outputs": [
    {
     "name": "stderr",
     "output_type": "stream",
     "text": [
      "\u001b[36m\u001b[1m┌ \u001b[22m\u001b[39m\u001b[36m\u001b[1mInfo: \u001b[22m\u001b[39mFound initial step size\n",
      "\u001b[36m\u001b[1m└ \u001b[22m\u001b[39m  ϵ = 0.8\n",
      "\u001b[32mSampling: 100%|█████████████████████████████████████████| Time: 0:00:46\u001b[39m\n"
     ]
    },
    {
     "data": {
      "text/plain": [
       "Chains MCMC chain (50000×33×1 Array{Float64, 3}):\n",
       "\n",
       "Iterations        = 11:1:50010\n",
       "Number of chains  = 1\n",
       "Samples per chain = 50000\n",
       "Wall duration     = 48.28 seconds\n",
       "Compute duration  = 48.28 seconds\n",
       "parameters        = θ, z[1], z[2], z[3], z[4], z[5], z[6], z[7], z[8], z[9], z[10], z[11], z[12], z[13], z[14], z[15], z[16], z[17], z[18], z[19], z[20]\n",
       "internals         = lp, n_steps, is_accept, acceptance_rate, log_density, hamiltonian_energy, hamiltonian_energy_error, max_hamiltonian_energy_error, tree_depth, numerical_error, step_size, nom_step_size\n",
       "\n",
       "Summary Statistics\n",
       " \u001b[1m parameters \u001b[0m \u001b[1m    mean \u001b[0m \u001b[1m     std \u001b[0m \u001b[1m    mcse \u001b[0m \u001b[1m   ess_bulk \u001b[0m \u001b[1m   ess_tail \u001b[0m \u001b[1m    rhat\u001b[0m ⋯\n",
       " \u001b[90m     Symbol \u001b[0m \u001b[90m Float64 \u001b[0m \u001b[90m Float64 \u001b[0m \u001b[90m Float64 \u001b[0m \u001b[90m    Float64 \u001b[0m \u001b[90m    Float64 \u001b[0m \u001b[90m Float64\u001b[0m ⋯\n",
       "\n",
       "           θ   -0.0064    0.7187    0.0053   19631.6971   23087.7691    1.0001 ⋯\n",
       "        z[1]    0.5747    0.7032    0.0026   74070.7338   37050.6250    1.0000 ⋯\n",
       "        z[2]    0.5803    0.7035    0.0026   73721.4702   37505.5154    1.0000 ⋯\n",
       "        z[3]   -0.3999    0.7076    0.0026   72828.9121   33437.2191    1.0000 ⋯\n",
       "        z[4]    0.0820    0.7073    0.0026   73987.0987   36529.3938    1.0000 ⋯\n",
       "        z[5]    0.9053    0.7092    0.0027   70040.7991   36852.8955    1.0000 ⋯\n",
       "        z[6]   -1.6101    0.7212    0.0028   66067.2374   34873.7965    1.0000 ⋯\n",
       "        z[7]   -0.0520    0.7048    0.0026   71733.7339   34895.5782    1.0000 ⋯\n",
       "        z[8]    0.3172    0.7069    0.0026   76403.6899   36788.8256    1.0000 ⋯\n",
       "        z[9]   -1.5490    0.7232    0.0029   63719.7693   34539.7749    1.0000 ⋯\n",
       "       z[10]   -0.7924    0.7046    0.0026   73269.9486   35770.4132    1.0001 ⋯\n",
       "       z[11]    0.9259    0.7105    0.0027   70805.1296   35786.5947    1.0000 ⋯\n",
       "       z[12]    0.0505    0.7024    0.0025   75721.7582   35945.4570    1.0000 ⋯\n",
       "       z[13]    0.0566    0.7061    0.0026   73801.1416   35911.1073    1.0003 ⋯\n",
       "       z[14]   -0.2525    0.7059    0.0025   76513.8381   37153.8493    1.0000 ⋯\n",
       "       z[15]   -0.0623    0.7019    0.0026   75228.4777   36091.3370    1.0001 ⋯\n",
       "       z[16]   -0.6115    0.7085    0.0026   73506.5845   35447.7977    1.0000 ⋯\n",
       "       z[17]    0.8048    0.7066    0.0026   71058.8797   34543.9579    1.0000 ⋯\n",
       "       z[18]   -0.2105    0.7106    0.0026   74005.1354   35326.0623    1.0001 ⋯\n",
       "       z[19]    0.5113    0.7084    0.0026   73318.8734   35066.7259    1.0001 ⋯\n",
       "       z[20]    0.5789    0.7068    0.0027   69832.2617   34580.1701    1.0000 ⋯\n",
       "\u001b[36m                                                                1 column omitted\u001b[0m\n",
       "\n",
       "Quantiles\n",
       " \u001b[1m parameters \u001b[0m \u001b[1m    2.5% \u001b[0m \u001b[1m   25.0% \u001b[0m \u001b[1m   50.0% \u001b[0m \u001b[1m   75.0% \u001b[0m \u001b[1m   97.5% \u001b[0m\n",
       " \u001b[90m     Symbol \u001b[0m \u001b[90m Float64 \u001b[0m \u001b[90m Float64 \u001b[0m \u001b[90m Float64 \u001b[0m \u001b[90m Float64 \u001b[0m \u001b[90m Float64 \u001b[0m\n",
       "\n",
       "           θ   -1.7660   -0.3841    0.0802    0.4745    1.1645\n",
       "        z[1]   -0.8336    0.1132    0.5806    1.0336    1.9697\n",
       "        z[2]   -0.8201    0.1207    0.5843    1.0431    1.9510\n",
       "        z[3]   -1.8141   -0.8619   -0.3961    0.0589    1.0068\n",
       "        z[4]   -1.3078   -0.3795    0.0801    0.5404    1.4976\n",
       "        z[5]   -0.4928    0.4422    0.9021    1.3703    2.3047\n",
       "        z[6]   -3.0159   -2.0830   -1.6147   -1.1491   -0.1685\n",
       "        z[7]   -1.4499   -0.5096   -0.0511    0.4067    1.3543\n",
       "        z[8]   -1.0933   -0.1431    0.3214    0.7750    1.7062\n",
       "        z[9]   -2.9522   -2.0278   -1.5581   -1.0802   -0.1049\n",
       "       z[10]   -2.1806   -1.2546   -0.7918   -0.3370    0.6067\n",
       "       z[11]   -0.4992    0.4660    0.9263    1.3901    2.3264\n",
       "       z[12]   -1.3288   -0.4066    0.0488    0.5059    1.4507\n",
       "       z[13]   -1.3478   -0.4033    0.0599    0.5192    1.4532\n",
       "       z[14]   -1.6675   -0.7123   -0.2508    0.2099    1.1412\n",
       "       z[15]   -1.4420   -0.5239   -0.0628    0.3962    1.3289\n",
       "       z[16]   -2.0179   -1.0749   -0.6084   -0.1508    0.7912\n",
       "       z[17]   -0.6049    0.3451    0.8088    1.2698    2.1884\n",
       "       z[18]   -1.6229   -0.6715   -0.2083    0.2497    1.1998\n",
       "       z[19]   -0.8958    0.0528    0.5118    0.9754    1.9065\n",
       "       z[20]   -0.8335    0.1242    0.5789    1.0417    1.9778\n"
      ]
     },
     "execution_count": 10,
     "metadata": {},
     "output_type": "execute_result"
    }
   ],
   "source": [
    "truth_hmc = sample(true_model, NUTS(10, 0.95), 50_000, progress=true; save_state=true)"
   ]
  },
  {
   "cell_type": "code",
   "execution_count": 11,
   "id": "0c724724",
   "metadata": {},
   "outputs": [],
   "source": [
    "true_theta_hmc = [truth_hmc.value.data[i, 1, :][1] for i in axes(truth_hmc.value.data)[1]]\n",
    "true_x10_hmc = [truth_hmc.value.data[i, 10+1, :][1] * exp(truth_hmc.value.data[i, 1, :][1]/2) for i in axes(truth_hmc.value.data)[1]];\n"
   ]
  },
  {
   "cell_type": "markdown",
   "id": "0ff2cf05",
   "metadata": {},
   "source": [
    "## Comp"
   ]
  },
  {
   "cell_type": "code",
   "execution_count": 12,
   "id": "7fd22388",
   "metadata": {},
   "outputs": [
    {
     "data": {
      "image/png": "[encoded data removed]",
      "text/plain": [
       "Figure(PyObject <Figure size 800x800 with 4 Axes>)"
      ]
     },
     "metadata": {},
     "output_type": "display_data"
    },
    {
     "data": {
      "text/plain": [
       "PyObject Text(0.5, 1.0, 'MCHMC')"
      ]
     },
     "execution_count": 12,
     "metadata": {},
     "output_type": "execute_result"
    }
   ],
   "source": [
    "fig, axis = plt.subplots(2, 2, figsize=(8,8))\n",
    "fig.suptitle(\"Neal's Funnel Comp.\", fontsize=16)\n",
    "\n",
    "fig.subplots_adjust(hspace=0)\n",
    "fig.subplots_adjust(wspace=0)\n",
    "\n",
    "axis[1,1].hist(x10_mchmc, bins=100, density=true, range=[-6,2], alpha = 0.3, label=\"MCHMC\")\n",
    "axis[1,1].hist(x10_hmc, bins=100, density=true, range=[-6,2], alpha = 0.3, label=\"NUTS\")\n",
    "axis[1,1].hist(true_x10_hmc, bins=100, density=true, range=[-6,2], alpha = 0.3, label=\"NUTS - Truth\")\n",
    "axis[1,1].legend()\n",
    "axis[1,1].set_yticks([])\n",
    "\n",
    "axis[2,2].hist(theta_mchmc, bins=100, density=true, orientation=\"horizontal\", range=[-6, 2], alpha = 0.3)\n",
    "axis[2,2].hist(theta_hmc, bins=100, density=true, orientation=\"horizontal\", range=[-6, 2], alpha = 0.3)\n",
    "axis[2,2].hist(true_theta_hmc, bins=100, density=true, orientation=\"horizontal\", range=[-6,2], alpha = 0.3)\n",
    "axis[2,2].set_xticks([])\n",
    "axis[2,2].set_yticks([])\n",
    "\n",
    "axis[1,2].hist2d(true_x10_hmc, true_theta_hmc, bins=100, range=[[-6,2],[-4, 2]])\n",
    "axis[1,2].set_xlabel(\"x10\")\n",
    "axis[1,2].set_ylabel(\"theta\")\n",
    "axis[1,2].set_title(\"NUTS\")\n",
    "\n",
    "axis[2,1].hist2d(x10_mchmc, theta_mchmc, bins=100, range=[[-6,2],[-4, 2]])\n",
    "axis[2,1].set_xlabel(\"x10\")\n",
    "axis[2,1].set_ylabel(\"theta\")\n",
    "axis[2,1].set_title(\"MCHMC\")"
   ]
  },
  {
   "cell_type": "code",
   "execution_count": null,
   "id": "8a248186",
   "metadata": {},
   "outputs": [],
   "source": []
  }
 ],
 "metadata": {
  "kernelspec": {
   "display_name": "Julia 1.9.3",
   "language": "julia",
   "name": "julia-1.9"
  },
  "language_info": {
   "file_extension": ".jl",
   "mimetype": "application/julia",
   "name": "julia",
   "version": "1.9.3"
  }
 },
 "nbformat": 4,
 "nbformat_minor": 5
}
