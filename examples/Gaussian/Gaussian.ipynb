{
 "cells": [
  {
   "attachments": {},
   "cell_type": "markdown",
   "id": "91129cb1",
   "metadata": {},
   "source": [
    "# Gaussian Target Practice"
   ]
  },
  {
   "cell_type": "code",
   "execution_count": 1,
   "id": "86b96c9e",
   "metadata": {},
   "outputs": [
    {
     "name": "stderr",
     "output_type": "stream",
     "text": [
      "\u001b[32m\u001b[1m  Activating\u001b[22m\u001b[39m project at `~/Documents/PhD/MicroCanonicalHMC.jl/examples`\n"
     ]
    }
   ],
   "source": [
    "using Pkg\n",
    "Pkg.activate(\"..\")"
   ]
  },
  {
   "cell_type": "code",
   "execution_count": 2,
   "id": "baed58e3",
   "metadata": {},
   "outputs": [
    {
     "name": "stderr",
     "output_type": "stream",
     "text": [
      "\u001b[36m\u001b[1m[ \u001b[22m\u001b[39m\u001b[36m\u001b[1mInfo: \u001b[22m\u001b[39mPrecompiling Turing [fce5fe82-541a-59a6-adf8-730c64b5f9a0]\n",
      "\u001b[32m\u001b[1mPrecompiling\u001b[22m\u001b[39m TuringOptimExt\n",
      "\u001b[32m  ✓ \u001b[39m\u001b[90mManifolds → ManifoldsRecipesBaseExt\u001b[39m\n",
      "\u001b[32m  ✓ \u001b[39m\u001b[90mTuring → TuringOptimExt\u001b[39m\n",
      "  2 dependencies successfully precompiled in 131 seconds. 323 already precompiled.\n",
      "\u001b[36m\u001b[1m[ \u001b[22m\u001b[39m\u001b[36m\u001b[1mInfo: \u001b[22m\u001b[39mPrecompiling TuringOptimExt [cd2420fc-8d31-5c39-8d98-0365cfcf7d6e]\n",
      "\u001b[33m\u001b[1m┌ \u001b[22m\u001b[39m\u001b[33m\u001b[1mWarning: \u001b[22m\u001b[39mModule Turing with build ID fafbfcfd-bd36-5380-0000-09c5b41257de is missing from the cache.\n",
      "\u001b[33m\u001b[1m│ \u001b[22m\u001b[39mThis may mean Turing [fce5fe82-541a-59a6-adf8-730c64b5f9a0] does not support precompilation but is imported by a module that does.\n",
      "\u001b[33m\u001b[1m└ \u001b[22m\u001b[39m\u001b[90m@ Base loading.jl:1948\u001b[39m\n",
      "\u001b[36m\u001b[1m[ \u001b[22m\u001b[39m\u001b[36m\u001b[1mInfo: \u001b[22m\u001b[39mSkipping precompilation since __precompile__(false). Importing TuringOptimExt [cd2420fc-8d31-5c39-8d98-0365cfcf7d6e].\n",
      "\u001b[32m\u001b[1mPrecompiling\u001b[22m\u001b[39m PyPlot\n",
      "\u001b[32m  ✓ \u001b[39mPyPlot\n",
      "  1 dependency successfully precompiled in 1 seconds. 17 already precompiled.\n",
      "\u001b[36m\u001b[1m[ \u001b[22m\u001b[39m\u001b[36m\u001b[1mInfo: \u001b[22m\u001b[39mPrecompiling PyPlot [d330b81b-6aea-500a-939a-2ce795aea3ee]\n",
      "\u001b[32m\u001b[1mPrecompiling\u001b[22m\u001b[39m SciMLBasePyCallExt\n",
      "\u001b[32m  ✓ \u001b[39m\u001b[90mSciMLBase → SciMLBasePyCallExt\u001b[39m\n",
      "  1 dependency successfully precompiled in 8 seconds. 130 already precompiled.\n",
      "\u001b[36m\u001b[1m[ \u001b[22m\u001b[39m\u001b[36m\u001b[1mInfo: \u001b[22m\u001b[39mPrecompiling SciMLBasePyCallExt [d083c4ab-32a5-5342-b289-e118b48fb79d]\n",
      "\u001b[33m\u001b[1m┌ \u001b[22m\u001b[39m\u001b[33m\u001b[1mWarning: \u001b[22m\u001b[39mModule PyCall with build ID fafbfcfd-876d-e93a-0000-0a03a8446637 is missing from the cache.\n",
      "\u001b[33m\u001b[1m│ \u001b[22m\u001b[39mThis may mean PyCall [438e738f-606a-5dbb-bf0a-cddfbfd45ab0] does not support precompilation but is imported by a module that does.\n",
      "\u001b[33m\u001b[1m└ \u001b[22m\u001b[39m\u001b[90m@ Base loading.jl:1948\u001b[39m\n",
      "\u001b[36m\u001b[1m[ \u001b[22m\u001b[39m\u001b[36m\u001b[1mInfo: \u001b[22m\u001b[39mSkipping precompilation since __precompile__(false). Importing SciMLBasePyCallExt [d083c4ab-32a5-5342-b289-e118b48fb79d].\n",
      "\u001b[36m\u001b[1m[ \u001b[22m\u001b[39m\u001b[36m\u001b[1mInfo: \u001b[22m\u001b[39mPrecompiling ManifoldsRecipesBaseExt [37da849e-34ab-54fd-a5a4-b22599bd6cb0]\n",
      "\u001b[33m\u001b[1m┌ \u001b[22m\u001b[39m\u001b[33m\u001b[1mWarning: \u001b[22m\u001b[39mModule Manifolds with build ID fafbfcfd-ec8c-41a3-0000-09dae9ad605e is missing from the cache.\n",
      "\u001b[33m\u001b[1m│ \u001b[22m\u001b[39mThis may mean Manifolds [1cead3c2-87b3-11e9-0ccd-23c62b72b94e] does not support precompilation but is imported by a module that does.\n",
      "\u001b[33m\u001b[1m└ \u001b[22m\u001b[39m\u001b[90m@ Base loading.jl:1948\u001b[39m\n",
      "\u001b[36m\u001b[1m[ \u001b[22m\u001b[39m\u001b[36m\u001b[1mInfo: \u001b[22m\u001b[39mSkipping precompilation since __precompile__(false). Importing ManifoldsRecipesBaseExt [37da849e-34ab-54fd-a5a4-b22599bd6cb0].\n",
      "\u001b[32m\u001b[1mPrecompiling\u001b[22m\u001b[39m MicroCanonicalHMC\n",
      "\u001b[32m  ✓ \u001b[39mMicroCanonicalHMC\n",
      "  1 dependency successfully precompiled in 7 seconds. 182 already precompiled.\n",
      "\u001b[36m\u001b[1m[ \u001b[22m\u001b[39m\u001b[36m\u001b[1mInfo: \u001b[22m\u001b[39mPrecompiling MicroCanonicalHMC [234d2aa0-2291-45f7-9047-6fa6f316b0a8]\n",
      "\u001b[33m\u001b[1m┌ \u001b[22m\u001b[39m\u001b[33m\u001b[1mWarning: \u001b[22m\u001b[39mModule ForwardDiff with build ID fafbfcfd-05c3-3c34-0000-09c5beaf858f is missing from the cache.\n",
      "\u001b[33m\u001b[1m│ \u001b[22m\u001b[39mThis may mean ForwardDiff [f6369f11-7733-5829-9624-2563aa707210] does not support precompilation but is imported by a module that does.\n",
      "\u001b[33m\u001b[1m└ \u001b[22m\u001b[39m\u001b[90m@ Base loading.jl:1948\u001b[39m\n",
      "\u001b[36m\u001b[1m[ \u001b[22m\u001b[39m\u001b[36m\u001b[1mInfo: \u001b[22m\u001b[39mSkipping precompilation since __precompile__(false). Importing MicroCanonicalHMC [234d2aa0-2291-45f7-9047-6fa6f316b0a8].\n"
     ]
    }
   ],
   "source": [
    "# The statistical inference frame-work we will use\n",
    "using Turing\n",
    "using LinearAlgebra\n",
    "using Random\n",
    "using PyPlot\n",
    "\n",
    "using Revise\n",
    "using MicroCanonicalHMC"
   ]
  },
  {
   "cell_type": "code",
   "execution_count": 3,
   "id": "90fdb90c",
   "metadata": {},
   "outputs": [
    {
     "ename": "LoadError",
     "evalue": "ParseError:\n\u001b[90m# Error @ \u001b[0;0m\u001b]8;;file:///home/jaimerz/Documents/PhD/MicroCanonicalHMC.jl/examples/Gaussian/In[3]#8:1\u001b\\\u001b[90mIn[3]:8:1\u001b[0;0m\u001b]8;;\u001b\\\n    end\n\u001b[48;2;120;70;70mend\u001b[0;0m\n\u001b[90m└─┘ ── \u001b[0;0m\u001b[91minvalid identifier\u001b[0;0m",
     "output_type": "error",
     "traceback": [
      "ParseError:\n\u001b[90m# Error @ \u001b[0;0m\u001b]8;;file:///home/jaimerz/Documents/PhD/MicroCanonicalHMC.jl/examples/Gaussian/In[3]#8:1\u001b\\\u001b[90mIn[3]:8:1\u001b[0;0m\u001b]8;;\u001b\\\n    end\n\u001b[48;2;120;70;70mend\u001b[0;0m\n\u001b[90m└─┘ ── \u001b[0;0m\u001b[91minvalid identifier\u001b[0;0m",
      "",
      "Stacktrace:",
      " [1] top-level scope",
      "   @ In[3]:8"
     ]
    }
   ],
   "source": [
    "@model function model_Gaussian(rt)\n",
    "    # Priors\n",
    "    μ ~ Normal(0.3, 0.5)\n",
    "    σ ~ Normal(log(0.2), 3)\n",
    "    # Data\n",
    "    rt ~ filldist(Normal(μ, exp(σ)), length(rt))\n",
    "end\n",
    "\n",
    "fit = model_Gaussian(rand(100))"
   ]
  },
  {
   "cell_type": "markdown",
   "id": "e0a3137b",
   "metadata": {},
   "source": [
    "## MCHMC"
   ]
  },
  {
   "cell_type": "code",
   "execution_count": null,
   "id": "3a8d5b3a",
   "metadata": {},
   "outputs": [],
   "source": [
    "samples_MCHMC = sample(fit, externalsampler(MCHMC(200, 0.01; adaptive=true)), 200)"
   ]
  },
  {
   "cell_type": "code",
   "execution_count": null,
   "id": "028ab552",
   "metadata": {},
   "outputs": [],
   "source": [
    "theta_mchmc = [samples.value.data[i, 1, :][1] for i in axes(samples.value.data)[1]]\n",
    "x10_mchmc = [samples.value.data[i, 10+1, :][1] for i in axes(samples.value.data)[1]];"
   ]
  },
  {
   "cell_type": "markdown",
   "id": "b8f12f9d",
   "metadata": {},
   "source": [
    "## NUTS"
   ]
  },
  {
   "cell_type": "code",
   "execution_count": null,
   "id": "1eebe796",
   "metadata": {},
   "outputs": [],
   "source": [
    "samples_NUTS = sample(fit, NUTS(), 200)  # Works"
   ]
  },
  {
   "cell_type": "markdown",
   "id": "0ff2cf05",
   "metadata": {},
   "source": [
    "## Comp"
   ]
  },
  {
   "cell_type": "code",
   "execution_count": null,
   "id": "7fd22388",
   "metadata": {},
   "outputs": [],
   "source": [
    "fig, axis = plt.subplots(2, 2, figsize=(8,8))\n",
    "fig.suptitle(\"Neal's Funnel Comp.\", fontsize=16)\n",
    "\n",
    "fig.subplots_adjust(hspace=0)\n",
    "fig.subplots_adjust(wspace=0)\n",
    "\n",
    "axis[1,1].hist(x10_mchmc, bins=100, density=true, range=[-6,2], alpha = 0.3, label=\"MCHMC\")\n",
    "axis[1,1].hist(x10_hmc, bins=100, density=true, range=[-6,2], alpha = 0.3, label=\"NUTS\")\n",
    "axis[1,1].hist(true_x10_hmc, bins=100, density=true, range=[-6,2], alpha = 0.3, label=\"NUTS - Truth\")\n",
    "axis[1,1].legend()\n",
    "axis[1,1].set_yticks([])\n",
    "\n",
    "axis[2,2].hist(theta_mchmc, bins=100, density=true, orientation=\"horizontal\", range=[-6, 2], alpha = 0.3)\n",
    "axis[2,2].hist(theta_hmc, bins=100, density=true, orientation=\"horizontal\", range=[-6, 2], alpha = 0.3)\n",
    "axis[2,2].hist(true_theta_hmc, bins=100, density=true, orientation=\"horizontal\", range=[-6,2], alpha = 0.3)\n",
    "axis[2,2].set_xticks([])\n",
    "axis[2,2].set_yticks([])\n",
    "\n",
    "axis[1,2].hist2d(true_x10_hmc, true_theta_hmc, bins=100, range=[[-6,2],[-4, 2]])\n",
    "axis[1,2].set_xlabel(\"x10\")\n",
    "axis[1,2].set_ylabel(\"theta\")\n",
    "axis[1,2].set_title(\"NUTS\")\n",
    "\n",
    "axis[2,1].hist2d(x10_mchmc, theta_mchmc, bins=100, range=[[-6,2],[-4, 2]])\n",
    "axis[2,1].set_xlabel(\"x10\")\n",
    "axis[2,1].set_ylabel(\"theta\")\n",
    "axis[2,1].set_title(\"MCHMC\")"
   ]
  },
  {
   "cell_type": "code",
   "execution_count": null,
   "id": "8a248186",
   "metadata": {},
   "outputs": [],
   "source": []
  }
 ],
 "metadata": {
  "kernelspec": {
   "display_name": "Julia (10 threads) 1.10.3",
   "language": "julia",
   "name": "julia-_10-threads_-1.10"
  },
  "language_info": {
   "file_extension": ".jl",
   "mimetype": "application/julia",
   "name": "julia",
   "version": "1.10.3"
  }
 },
 "nbformat": 4,
 "nbformat_minor": 5
}
